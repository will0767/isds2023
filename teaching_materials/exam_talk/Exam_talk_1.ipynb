{
 "cells": [
  {
   "cell_type": "markdown",
   "metadata": {
    "slideshow": {
     "slide_type": "slide"
    }
   },
   "source": [
    "<style>\n",
    ".rendered_html * + ul {\n",
    "\tmargin-top: 0.5em;\n",
    "}\n",
    "    div.text_cell_render {\n",
    "    padding: 0.0em 0.0em 0.0em 0.0em;\n",
    "}\n",
    "    .reveal p {\n",
    "    margin: 20px 10;\n",
    "    line-height: 1.3;\n",
    "}\n",
    "    html, body, .reveal div, .reveal span, .reveal applet, .reveal object, .reveal iframe, .reveal h1, .reveal h2, .reveal h3, .reveal h4, .reveal h5, .reveal h6, .reveal p, .reveal blockquote, .reveal pre, .reveal a, .reveal abbr, .reveal acronym, .reveal address, .reveal big, .reveal cite, .reveal code, .reveal del, .reveal dfn, .reveal em, .reveal img, .reveal ins, .reveal kbd, .reveal q, .reveal s, .reveal samp, .reveal small, .reveal strike, .reveal strong, .reveal sub, .reveal sup, .reveal tt, .reveal var, .reveal b, .reveal u, .reveal center, .reveal dl, .reveal dt, .reveal dd, .reveal ol, .reveal ul, .reveal li, .reveal fieldset, .reveal form, .reveal label, .reveal legend, .reveal table, .reveal caption, .reveal tbody, .reveal tfoot, .reveal thead, .reveal tr, .reveal th, .reveal td, .reveal article, .reveal aside, .reveal canvas, .reveal details, .reveal embed, .reveal figure, .reveal figcaption, .reveal footer, .reveal header, .reveal hgroup, .reveal menu, .reveal nav, .reveal output, .reveal ruby, .reveal section, .reveal summary, .reveal time, .reveal mark, .reveal audio, .reveal video {\n",
    "    margin-bottom: -1px;\n",
    "}\n",
    "    div.text_cell_render {\n",
    "    padding: 0em 0em 0.5em 0.0em;\n",
    "}\n",
    "</style>\n",
    "\n",
    "# Exam Talk 1\n"
   ]
  },
  {
   "cell_type": "markdown",
   "metadata": {
    "slideshow": {
     "slide_type": "slide"
    }
   },
   "source": [
    "## Agenda\n",
    "\n",
    "Today, we will talk about the status quo and the final exam project:"
   ]
  },
  {
   "cell_type": "markdown",
   "metadata": {
    "slideshow": {
     "slide_type": "fragment"
    }
   },
   "source": [
    "- Information\n",
    "    - Comments and status\n",
    "    - Supervisions and deadlines"
   ]
  },
  {
   "cell_type": "markdown",
   "metadata": {
    "slideshow": {
     "slide_type": "fragment"
    }
   },
   "source": [
    "- More Info on Exam Project\n",
    "    - Why a project?\n",
    "    - Certain Requirements\n",
    "    - How to Select a Topic?\n",
    "    - Some Pieces of Advice on Content\n",
    "    - Some Pieces of Advice on Writing and Structure"
   ]
  },
  {
   "cell_type": "markdown",
   "metadata": {
    "slideshow": {
     "slide_type": "fragment"
    }
   },
   "source": [
    "- Exam Project Examples:\n",
    "    - Jonathan Isaksen"
   ]
  },
  {
   "cell_type": "markdown",
   "metadata": {
    "slideshow": {
     "slide_type": "slide"
    }
   },
   "source": [
    "# Information"
   ]
  },
  {
   "cell_type": "markdown",
   "metadata": {
    "slideshow": {
     "slide_type": "slide"
    }
   },
   "source": [
    "## Comments & Status (I/III)\n",
    "\n",
    "#### What have we covered now?\n",
    "Week 1:\n",
    "- Monday: Data structuring\n",
    "- Tuesday: More data structuring + plotting\n",
    "- Wednesday: Web interactions and scraping\n",
    "- Thursday: More web interactions and scraping\n",
    "- TODAY: Exam\n",
    "\n",
    "Week 2:\n",
    "- Monday: Data ethics + more scraping"
   ]
  },
  {
   "cell_type": "markdown",
   "metadata": {
    "slideshow": {
     "slide_type": "fragment"
    }
   },
   "source": [
    "Where many of you are probably at:\n",
    "- Many new things...\n",
    "- Assignment 1 was difficult...\n",
    "- Scraping, in particular, is difficult!"
   ]
  },
  {
   "cell_type": "markdown",
   "metadata": {
    "slideshow": {
     "slide_type": "slide"
    }
   },
   "source": [
    "## Comments & Status (II/III)\n",
    "\n",
    "#### Hadley Wickham\n",
    "\n",
    "> The bad news is that when ever you learn a new skill **you’re going to suck**. It’s going to be **frustrating**. The good news is that is typical and **happens to everyone** and it is **only temporary**. You can’t go from knowing nothing to becoming an expert without going through a **period of great frustration** and great suckiness.\n",
    "\n",
    "\n",
    "#### Kosuke Imai\n",
    "\n",
    "> One can learn data analysis **only by doing**, not by reading."
   ]
  },
  {
   "cell_type": "markdown",
   "metadata": {
    "slideshow": {
     "slide_type": "slide"
    }
   },
   "source": [
    "## Comments & Status (III/III)\n",
    "\n",
    "Our advice for the exercises and assignments:"
   ]
  },
  {
   "cell_type": "markdown",
   "metadata": {
    "slideshow": {
     "slide_type": "fragment"
    }
   },
   "source": [
    "- Use our excellent TAs!\n",
    "- Use your group - distribute tasks if possible\n",
    "- ... and do your best (I know, I know, this is easy to say...)"
   ]
  },
  {
   "cell_type": "markdown",
   "metadata": {
    "slideshow": {
     "slide_type": "fragment"
    }
   },
   "source": [
    "Our advice for the supervisions and the exam project:"
   ]
  },
  {
   "cell_type": "markdown",
   "metadata": {
    "slideshow": {
     "slide_type": "fragment"
    }
   },
   "source": [
    "- Do some brainstorming:\n",
    "    - Which topics do you think are interesting?\n",
    "    - What could be a research question?\n",
    "    - What types of relevant datasets could you possibly get your hands on?"
   ]
  },
  {
   "cell_type": "markdown",
   "metadata": {
    "slideshow": {
     "slide_type": "fragment"
    }
   },
   "source": [
    "- Again, use our TAs!\n",
    "    - They have experience\n",
    "    - They might be able to give you advice on what is feasible and not"
   ]
  },
  {
   "cell_type": "markdown",
   "metadata": {
    "slideshow": {
     "slide_type": "fragment"
    }
   },
   "source": [
    "- We do not expect you to have a polished idea at this point!"
   ]
  },
  {
   "cell_type": "markdown",
   "metadata": {
    "slideshow": {
     "slide_type": "slide"
    }
   },
   "source": [
    "## Supervisions & Deadlines\n",
    "\n",
    "\n",
    "Week 1: \n",
    "- Supervision round 1: Thursday and Friday\n",
    "- **Assignment 1 due: August 4, 23.59**\n",
    "\n",
    "Week 2:\n",
    "- Supervision round 2: Thursday and Friday, Week 2\n",
    "- **Assignment 2 due: August 11, 23.59**\n",
    "\n",
    "Week 3:\n",
    "- **Exam project description due: August 15, 20.00**\n",
    "- Supervision round 3: August 15\n",
    "\n",
    "**Exam project due: August 23, 10.00**"
   ]
  },
  {
   "cell_type": "markdown",
   "metadata": {
    "slideshow": {
     "slide_type": "slide"
    }
   },
   "source": [
    "# The Exam Project"
   ]
  },
  {
   "cell_type": "markdown",
   "metadata": {
    "slideshow": {
     "slide_type": "slide"
    }
   },
   "source": [
    "## Why A Project?\n",
    "\n",
    "The content of the exam project...\n",
    "- ... is something that you choose. \n",
    "- You and your group must find a subject, data, choose methods etc."
   ]
  },
  {
   "cell_type": "markdown",
   "metadata": {
    "slideshow": {
     "slide_type": "fragment"
    }
   },
   "source": [
    "*Why not just a 3 hour closed-book exam?*"
   ]
  },
  {
   "cell_type": "markdown",
   "metadata": {
    "slideshow": {
     "slide_type": "fragment"
    }
   },
   "source": [
    "This course is all about application! \n",
    "\n",
    "We want you to demonstrate that you can conduct an analysis that (i) relies on methodology from data science, (ii) on a topic related to the social sciences."
   ]
  },
  {
   "cell_type": "markdown",
   "metadata": {},
   "source": [
    "## SOCIAL Data Science\n",
    "\n",
    "When you determine your research question, think about the following:\n",
    "- You need to remember the _social_ in _social data science_\n",
    "\n",
    "Hence, there needs to be some kind of a behavioral/social/political/economics/... aspect in your analysis."
   ]
  },
  {
   "cell_type": "markdown",
   "metadata": {},
   "source": [
    "*But how do I ensure this?*"
   ]
  },
  {
   "cell_type": "markdown",
   "metadata": {},
   "source": [
    "In some questions, this aspect is just obvious:\n",
    "- Does the gender of a journalist matter for how #MeToo is described?\n",
    "- How does social media activity change in times of a pandemic?\n",
    "\n",
    "Sometimes, less so. Say, you want to predict floods...\n",
    "- Motivate it: Floods are costly in terms of \\$ and human lives [reference] -> If we can become better at predicting these, a lot can be saved\n",
    "\n",
    "Key point: Try and motivate your topic from a behavioral/social/political/economical point of view."
   ]
  },
  {
   "cell_type": "markdown",
   "metadata": {
    "slideshow": {
     "slide_type": "slide"
    }
   },
   "source": [
    "## How to Select a Topic?\n",
    "\n",
    "Essentially, you should pick a topic that allows you to demonstrate that you master the learning outcomes in the [course description](https://kurser.ku.dk/course/a%C3%98kk08216u/2023-2024)..."
   ]
  },
  {
   "cell_type": "markdown",
   "metadata": {
    "slideshow": {
     "slide_type": "fragment"
    }
   },
   "source": [
    "Skills that you may demonstrate that you have acquired:\n",
    "- Conceptualize and execute projects in social data science."
   ]
  },
  {
   "cell_type": "markdown",
   "metadata": {
    "slideshow": {
     "slide_type": "fragment"
    }
   },
   "source": [
    "- Use data manipulation and data visualization to \n",
    "    - scrape,\n",
    "    - clean,\n",
    "    - merge,\n",
    "    - transform,\n",
    "    - analyze, and\n",
    "    - visualize (social) data"
   ]
  },
  {
   "cell_type": "markdown",
   "metadata": {
    "slideshow": {
     "slide_type": "fragment"
    }
   },
   "source": [
    "- Parse and structure text data and conduct basic analysis."
   ]
  },
  {
   "cell_type": "markdown",
   "metadata": {
    "slideshow": {
     "slide_type": "fragment"
    }
   },
   "source": [
    "- Construct new datasets by scraping web pages and work with data APIs"
   ]
  },
  {
   "cell_type": "markdown",
   "metadata": {
    "slideshow": {
     "slide_type": "fragment"
    }
   },
   "source": [
    "- Estimate, apply and interpret machine learning algorithms and models in practice."
   ]
  },
  {
   "cell_type": "markdown",
   "metadata": {
    "slideshow": {
     "slide_type": "slide"
    }
   },
   "source": [
    "## Certain Requirements\n",
    "\n",
    "The exam projects have a number of requirements that must be met, the most important are:\n",
    "- Research question (you should discuss with TAs)\n",
    "- Project formalities\n",
    "    - Project must consist of a report (.pdf file) and a documentation as Jupyter Notebook (.ipynb file).\n",
    "    - The report should be written like a brief research article (short literature review, references to methods, results etc.). \n",
    "    - The report is limited to the following maximum number of pages (normalsider)*.\n",
    "        - 2 members, 12 pages; 3 members, 15 pages; 4 members, 18 pages.\n",
    "    - The report should contain your names\n",
    "        - The names MUST show who contributed with writing which parts of the report. \n",
    "        - At most 20 pct. of the report can be written shared. \n",
    "        - If you fail to provide this, the submission of your project may get rejected!\n",
    "    - Grading will be based on the report but process (i.e. data collection, computations etc.) should be well documented in the supporting notebook.\n",
    "    \n",
    "All this information can be found on our [website](https://isdsucph.github.io/isds2023/page/practical/).\n",
    "    \n",
    "_\\* Note that 1 page (normalside) corresponds 2,400 and does not count figures, abstract, list of reference, frontpage, appendix_"
   ]
  },
  {
   "cell_type": "markdown",
   "metadata": {
    "slideshow": {
     "slide_type": "slide"
    }
   },
   "source": [
    "## Some Pieces of Advice on Content"
   ]
  },
  {
   "cell_type": "markdown",
   "metadata": {
    "slideshow": {
     "slide_type": "fragment"
    }
   },
   "source": [
    "A good project does not answer several questions that are not feasible to answer\n",
    "- A good project has a well-defined research question that can be answered (i) on limited pages, (ii) within a limited time frame, (iii) and with methods taught in this course."
   ]
  },
  {
   "cell_type": "markdown",
   "metadata": {
    "slideshow": {
     "slide_type": "fragment"
    }
   },
   "source": [
    "A good project does not necessarily use *all* tools that are being taught in this course.\n",
    "- A good project applies the appropriate tools well"
   ]
  },
  {
   "cell_type": "markdown",
   "metadata": {
    "slideshow": {
     "slide_type": "fragment"
    }
   },
   "source": [
    "A good project does not hide challenges and barriers\n",
    "- A good project reflects upon pros and cons of chosen approach"
   ]
  },
  {
   "cell_type": "markdown",
   "metadata": {
    "slideshow": {
     "slide_type": "subslide"
    }
   },
   "source": [
    "### Some papers using scraped data for inspiration\n",
    "Below are some interesting academic papers using data scraped from online sources that might provide inspiration for your exam project\n",
    "\n",
    "- Stephens-Davidowitz, Seth. 2014. \"[The cost of racial animus on a black candidate: Evidence using Google search data](http://www.sciencedirect.com/science/article/pii/S0047272714000929).\" *Journal of Public Economics*, 118: 26-40.\n",
    "\n",
    "- Stephens-Davidowitz, Seth, Hal Varian, and Michael D. Smith. 2016. \"[Super Returns to Super Bowl Ads?](http://people.ischool.berkeley.edu/~hal/Papers/2015/super.pdf)\". R & R, *Journal of Political Economy*.\n",
    "\n",
    "- Stephens-Davidowitz, Seth, and Hal Varian. 2015 \"[A Hands-on Guide to Google Data](https://www.aeaweb.org/conference/2016/retrieve.php?pdfid=14330&tk=S7QBBHGE).\" Google working paper.\n",
    "\n",
    "- Barberá, Pablo. 2015. \"[Birds of the same feather tweet together: Bayesian ideal point estimation using Twitter data](http://pan.oxfordjournals.org/content/23/1/76.short).\" *Political Analysis*, 23.1: 76-91.\n",
    "\n",
    "- Cavallo, A. (2018). [\"Scraped data and sticky prices\"](https://www.mitpressjournals.org/doi/abs/10.1162/REST_a_00652). *Review of Economics and Statistics*, 100(1).\n",
    "\n",
    "- Bond, Robert M., et al. 2012. [\"A 61-million-person experiment in social influence and political mobilization\"](http://www.ncbi.nlm.nih.gov/pmc/articles/PMC3834737/). *Nature*, 489.7415: 295-298.\n",
    "\n",
    "- Gorrell, Genevieve et al. 2018. [“Twits, Twats and Twaddle: Trends in Online Abuse towards UK Politicians”](https://www.sheffield.ac.uk/sites/default/files/2022-04/Gorrell-Greenwood.pdf). *ICWSM*"
   ]
  },
  {
   "cell_type": "markdown",
   "metadata": {
    "slideshow": {
     "slide_type": "fragment"
    }
   },
   "source": [
    "**_More advice will follow in next exam talk_**"
   ]
  },
  {
   "cell_type": "markdown",
   "metadata": {
    "slideshow": {
     "slide_type": "slide"
    }
   },
   "source": [
    "## Some Pieces of Advice on Writing and Structure (I/II)\n",
    "\n",
    "It is essential that you spend time on motivating your project and conveying your results:"
   ]
  },
  {
   "cell_type": "markdown",
   "metadata": {
    "slideshow": {
     "slide_type": "fragment"
    }
   },
   "source": [
    "- Introduction:\n",
    "    - What is your 'research question'?\n",
    "    - How will you answer it? What kind of data will you use?\n",
    "    - Is there already a literature that surrounds this question? Recap\n",
    "        - Do not write a too long literature review (limited space!)"
   ]
  },
  {
   "cell_type": "markdown",
   "metadata": {
    "slideshow": {
     "slide_type": "fragment"
    }
   },
   "source": [
    "- During analysis and results:\n",
    "    - Thoroughly explain data collection, data analaysis and potential modelling\n",
    "    - Reflect upon results\n",
    "    - NOTE: Do not spend page after page explaining trivial stuff that can be read in a text book:\n",
    "        - Explain *why* you use these tools and argue why they are appropriate\n",
    "        - As part of this, you will often have to recap main features of tools"
   ]
  },
  {
   "cell_type": "markdown",
   "metadata": {
    "slideshow": {
     "slide_type": "fragment"
    }
   },
   "source": [
    "- Conclusion:\n",
    "    - What was your research question?\n",
    "    - What was your answer? How did you answer it?\n",
    "    - What are flaws/disadvantages of your design, and how can this be improved?"
   ]
  },
  {
   "cell_type": "markdown",
   "metadata": {
    "slideshow": {
     "slide_type": "slide"
    }
   },
   "source": [
    "## Some Pieces of Advice on Writing and Structure (II/II)"
   ]
  },
  {
   "cell_type": "markdown",
   "metadata": {
    "slideshow": {
     "slide_type": "fragment"
    }
   },
   "source": [
    "[This paper](http://marcfbellemare.com/wordpress/wp-content/uploads/2020/09/BellemareHowToPaperSeptember2020.pdf) provides some useful pieces of information about academic writing (*note*: it is mainly about writing research papers)"
   ]
  },
  {
   "cell_type": "markdown",
   "metadata": {
    "slideshow": {
     "slide_type": "fragment"
    }
   },
   "source": [
    "**_More advice will follow in next exam talk_**"
   ]
  },
  {
   "cell_type": "markdown",
   "metadata": {
    "slideshow": {
     "slide_type": "slide"
    },
    "tags": []
   },
   "source": [
    "# An example of an exam project\n",
    "\n",
    "## Jonathan Isaksen"
   ]
  }
 ],
 "metadata": {
  "celltoolbar": "Slideshow",
  "kernelspec": {
   "display_name": "Python 3 (ipykernel)",
   "language": "python",
   "name": "python3"
  },
  "language_info": {
   "codemirror_mode": {
    "name": "ipython",
    "version": 3
   },
   "file_extension": ".py",
   "mimetype": "text/x-python",
   "name": "python",
   "nbconvert_exporter": "python",
   "pygments_lexer": "ipython3",
   "version": "3.9.16"
  }
 },
 "nbformat": 4,
 "nbformat_minor": 4
}
