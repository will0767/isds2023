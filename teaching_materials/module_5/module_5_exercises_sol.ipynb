{
 "cells": [
  {
   "cell_type": "markdown",
   "metadata": {
    "tags": []
   },
   "source": [
    "# Videos and Exercises for Session 5: Strings, Requests and APIs"
   ]
  },
  {
   "cell_type": "markdown",
   "metadata": {},
   "source": [
    "In Assignment 0 we covered a lot about basic Python, and in the first sessions, we talked a bit about how to deal with different data types in pandas - strings among other. However, we only scratched the surface on string-related topics and in this session, we will be taking a deeper looking at. \n",
    "\n",
    "We will start out with a recap of some basic string operations and build on that to make a query for fetching data. After having finished this combined teaching module and exercise set, you will know the basics of collecting from the web. This notebook is structured as follows:\n",
    "1. String Operations (recap and warm-up):\n",
    "    - Common string operations\n",
    "    - More string operations\n",
    "    - Warm-up exercises\n",
    "2. Saving as Text File\n",
    "3. Python Containers and Dictionaries\n",
    "4. Python and the Web\n",
    "    - Application Programming Interface (API)\n",
    "    - The Punk API\n",
    "    - The API for Statistics Denmark\n",
    "5. Bonus Exercises $-$ Traffic Data in Copenhagen\n",
    "\n",
    "*Alternative sources*: If you get lost, you might find [this page](https://pythonprogramming.net/string-concatenation-formatting-intermediate-python-tutorial/) on pythonprogramming.net useful. [This page](https://www.python-course.eu/python3_sequential_data_types.php) also gives an introduction to the basics of strings and their related data types. "
   ]
  },
  {
   "cell_type": "markdown",
   "metadata": {},
   "source": [
    "# Part 1: String Operations\n",
    "\n",
    "As we have already learned, strings are sequential containers of characters. In Python we use two kinds of characters:\n",
    "-  American Standard Code (`ascii`)\n",
    "    - Characters from English alphabet, numbers, symbols for writing \n",
    "    - 8 bit information\n",
    "\n",
    "- Unicode (`UTF`)  \n",
    "    - Characters from European and Asian language and much more\n",
    "    - 16 bit information\n",
    "    - Available in URLs recently, e.g. [møn.dk](https://møn.dk)        \n",
    "    \n",
    "    \n",
    "Note that while unicode is a little more heavy and costs more space, it is way more flexible and we get less errors when importing data from non-ascii languages. This reason is also why Python adopted unicode as standard since the release of Python 3.\n",
    "\n",
    "To see that strings are sequential containers, see the example below where we slice them like a list or dataframe/array:"
   ]
  },
  {
   "cell_type": "code",
   "execution_count": 1,
   "metadata": {},
   "outputs": [
    {
     "data": {
      "text/plain": [
       "'lice'"
      ]
     },
     "execution_count": 1,
     "metadata": {},
     "output_type": "execute_result"
    }
   ],
   "source": [
    "str1 = 'police'\n",
    "str1[2:]"
   ]
  },
  {
   "cell_type": "markdown",
   "metadata": {},
   "source": [
    "## Common string operations \n",
    "\n",
    "Strings have multiple operations and functions associated. In this exercise, we investigate a few of these. We also explore the sequence form of a string and how it can be sliced and accessed via indices. In the following, we provide a small tour of some of the most important technical features of strings."
   ]
  },
  {
   "cell_type": "markdown",
   "metadata": {},
   "source": [
    "One thing that can be helpful when working with strings is that you can alter the sentence-case of strings by using the string methods `upper`, `lower`, `capitalize`. Consider the example below and try switching `upper()` with one of the other operations:"
   ]
  },
  {
   "cell_type": "code",
   "execution_count": 2,
   "metadata": {},
   "outputs": [
    {
     "data": {
      "text/plain": [
       "'POLICE'"
      ]
     },
     "execution_count": 2,
     "metadata": {},
     "output_type": "execute_result"
    }
   ],
   "source": [
    "str1.upper()"
   ]
  },
  {
   "cell_type": "markdown",
   "metadata": {},
   "source": [
    "We can also use the `replace` method to substitute parts of the strings:"
   ]
  },
  {
   "cell_type": "code",
   "execution_count": 3,
   "metadata": {},
   "outputs": [
    {
     "data": {
      "text/plain": [
       "'malice'"
      ]
     },
     "execution_count": 3,
     "metadata": {},
     "output_type": "execute_result"
    }
   ],
   "source": [
    "str1.replace('po', 'ma')"
   ]
  },
  {
   "cell_type": "markdown",
   "metadata": {},
   "source": [
    "We can also check whether a substring is within a given string and much more. The general syntax is \n",
    "```python \n",
    "T in S\n",
    "``` \n",
    "which checks whether a string `S` contains the substring `T`. We should always get a boolean True/False outcome in return. See two applications below: "
   ]
  },
  {
   "cell_type": "code",
   "execution_count": 4,
   "metadata": {},
   "outputs": [
    {
     "name": "stdout",
     "output_type": "stream",
     "text": [
      "True False\n"
     ]
    }
   ],
   "source": [
    "print('ice' in str1, 'mice' in str1)"
   ]
  },
  {
   "cell_type": "markdown",
   "metadata": {},
   "source": [
    "Another procedure is to add strings together like below:"
   ]
  },
  {
   "cell_type": "code",
   "execution_count": 5,
   "metadata": {},
   "outputs": [
    {
     "data": {
      "text/plain": [
       "'police officer'"
      ]
     },
     "execution_count": 5,
     "metadata": {},
     "output_type": "execute_result"
    }
   ],
   "source": [
    "str2 = 'officer'\n",
    "str1 + ' ' + str2"
   ]
  },
  {
   "cell_type": "markdown",
   "metadata": {},
   "source": [
    "This can be helpful when we want to combine strings of words into sentences or long text files."
   ]
  },
  {
   "cell_type": "markdown",
   "metadata": {},
   "source": [
    "## More string operations \n",
    "In addition to the techniques above, strings are equipped with an array of _methods_, for solving more complex tasks. For example:\n",
    "- `str.join(list)` will insert a string in between each element of a list\n",
    "- `str.strip()` removes spaces in the beginning and end of a word \n",
    "- the f-string fills in specified blanks in a string\n",
    "- `str1.split(str2)` splits `str1` into a list through all places where `str2` shows up\n",
    "\n",
    "Below we illustrate the use of each function:\n",
    "\n",
    "```python\n",
    ">>> \" \".join(['Hello', 'World!']) \n",
    "'Hello World!'\n",
    "\n",
    ">>> ' Hello World!   '.strip() \n",
    "'Hello World!'\n",
    "\n",
    ">>> w = 'World'\n",
    ">>> f'Hello {w}' \n",
    "'Hello World!'\n",
    "\n",
    ">>> 'a,b,c'.split(',') \n",
    "['a','b','c']\n",
    "```"
   ]
  },
  {
   "cell_type": "markdown",
   "metadata": {},
   "source": [
    "## Warm-up String Exercises\n",
    "\n",
    "In the first couple of exercises, you should use the examples above to solve a set of tasks.\n",
    "\n",
    "> **Ex. 5.1.1**: Let `s1='Chameleon'` and `s2='ham'`. Check whether the string `s2` is a substring of `s1`. Is `'hello'` a substring `'goodbye'`?\n",
    "\n"
   ]
  },
  {
   "cell_type": "code",
   "execution_count": 6,
   "metadata": {
    "nbgrader": {
     "grade": false,
     "grade_id": "cell-993caea0991d84c4",
     "locked": false,
     "schema_version": 3,
     "solution": true,
     "task": false
    }
   },
   "outputs": [
    {
     "name": "stdout",
     "output_type": "stream",
     "text": [
      "Chameleon is not part of ham\n"
     ]
    }
   ],
   "source": [
    "### BEGIN SOLUTION\n",
    "\n",
    "s1, s2 = 'chameleon', 'ham'\n",
    "#s1, s2 = 'hello', 'goodbye'\n",
    "\n",
    "if s1 in s2:\n",
    "    print(s1.capitalize() + ' is indeed part of ' + s2)\n",
    "else:\n",
    "    print(s1.capitalize() + ' is not part of ' + s2)\n",
    "    \n",
    "### END SOLUTION"
   ]
  },
  {
   "cell_type": "markdown",
   "metadata": {},
   "source": [
    "> **Ex. 5.1.2**: From the string `s1` select the last four characters. What is the index of the character `a` in `s1`?\n",
    "\n",
    "> *Hint*: We can selecti a substring by slicing it with the `[]` notation, from the start to end where start is included and end is excluded. Recall that Python has zero-based indexing, see explanation [here](https://softwareengineering.stackexchange.com/questions/110804/why-are-zero-based-arrays-the-norm).\n"
   ]
  },
  {
   "cell_type": "code",
   "execution_count": 7,
   "metadata": {
    "nbgrader": {
     "grade": false,
     "grade_id": "cell-ace323777447ea4a",
     "locked": false,
     "schema_version": 3,
     "solution": true,
     "task": false
    }
   },
   "outputs": [
    {
     "name": "stdout",
     "output_type": "stream",
     "text": [
      "leon\n",
      "2\n"
     ]
    }
   ],
   "source": [
    "### BEGIN SOLUTION\n",
    "\n",
    "s1, s2 = 'chameleon', 'ham'\n",
    "\n",
    "print(s1[-4:])\n",
    "print(s1.index('a'))\n",
    "    \n",
    "### END SOLUTION"
   ]
  },
  {
   "cell_type": "markdown",
   "metadata": {},
   "source": [
    "> **Ex. 5.1.3:** Use the `join()` and `strip()` functions to retrieve the sentence `The quick brown fox jumps over the lazy dog` from the list  `list_of_words` in the code cell below. \n",
    "\n",
    "> *Hint:* If you want to challenge yourself, see if you can do this in one line with a list comprehension!"
   ]
  },
  {
   "cell_type": "code",
   "execution_count": 8,
   "metadata": {},
   "outputs": [],
   "source": [
    "list_of_words = ['       The        ', '   quick   ', '     brown      ',\n",
    "                 ' fox          ', '          jumps     ', '   over ',\n",
    "                 '          the   ', '  lazy     ', '          dog     ']"
   ]
  },
  {
   "cell_type": "code",
   "execution_count": 9,
   "metadata": {
    "nbgrader": {
     "grade": false,
     "grade_id": "cell-c07cac510187b734",
     "locked": false,
     "schema_version": 3,
     "solution": true,
     "task": false
    }
   },
   "outputs": [
    {
     "name": "stdout",
     "output_type": "stream",
     "text": [
      "The quick brown fox jumps over the lazy dog\n"
     ]
    }
   ],
   "source": [
    "### BEGIN SOLUTION\n",
    "print(' '.join([list_of_words[i].strip() for i in range(len(list_of_words))]))\n",
    "### END SOLUTION"
   ]
  },
  {
   "cell_type": "markdown",
   "metadata": {},
   "source": [
    "> **Ex. 5.1.4:** Let `l1 = ['r ', 'Is', '>', ' < ', 'g ', '?']`. Create from `l1` the sentence \"Is r > g?\" using your knowledge about string formatting. Make sure there is only one space in between worlds.\n",
    ">\n",
    "> _Hint:_ You should be able to combine the above information to solve this exercise."
   ]
  },
  {
   "cell_type": "code",
   "execution_count": 10,
   "metadata": {
    "nbgrader": {
     "grade": false,
     "grade_id": "cell-9dafd1e8c334c195",
     "locked": false,
     "schema_version": 3,
     "solution": true,
     "task": false
    }
   },
   "outputs": [
    {
     "name": "stdout",
     "output_type": "stream",
     "text": [
      "Is r > g?\n"
     ]
    }
   ],
   "source": [
    "### BEGIN SOLUTION\n",
    "l1 = ['r ', 'Is', '>', ' < ', 'g ', '?']\n",
    "print(l1[1]+' '+l1[0]+l1[2]+' '+l1[4][0]+l1[5])\n",
    "### END SOLUTION"
   ]
  },
  {
   "cell_type": "markdown",
   "metadata": {
    "slideshow": {
     "slide_type": "slide"
    }
   },
   "source": [
    "# Part 2: Saving as Text File\n",
    "In this course, we have already seen that we can output tabular data as CSV files. These files are essentially text files with specific structure that allows a computer to identify rows and columns. \n",
    "\n",
    "In the example below, we will learn how to actually save a string directly as a text file. Note how we make a line break using `\\n` - this is a string escape sequence, read more [here](https://docs.python.org/3/reference/lexical_analysis.html#literals)."
   ]
  },
  {
   "cell_type": "code",
   "execution_count": 11,
   "metadata": {
    "slideshow": {
     "slide_type": "fragment"
    }
   },
   "outputs": [],
   "source": [
    "my_str = 'This is important...'\n",
    "my_str2 = 'Written in Python!'\n",
    "escape_seq = '\\n'\n",
    "\n",
    "with open('my_file.txt', 'w') as f:\n",
    "    f.write(my_str+escape_seq+my_str2)"
   ]
  },
  {
   "cell_type": "markdown",
   "metadata": {
    "slideshow": {
     "slide_type": "fragment"
    }
   },
   "source": [
    "The code below opens the text file and prints the string."
   ]
  },
  {
   "cell_type": "code",
   "execution_count": 12,
   "metadata": {
    "slideshow": {
     "slide_type": "fragment"
    }
   },
   "outputs": [
    {
     "name": "stdout",
     "output_type": "stream",
     "text": [
      "This is important...\n",
      "Written in Python!\n"
     ]
    }
   ],
   "source": [
    "with open('my_file.txt', 'r') as f:    \n",
    "    print(f.read())"
   ]
  },
  {
   "cell_type": "markdown",
   "metadata": {},
   "source": [
    "> **Ex. 5.2.1:** Create a .txt file called `to_do_list.txt` with a to-do list by looping over the list `to_do = ['1. Hit the gym', '2. Pay bills', '3. Meet George', '4. Buy eggs', '5. Read a book']` and writing each element on a seperate line."
   ]
  },
  {
   "cell_type": "code",
   "execution_count": 13,
   "metadata": {},
   "outputs": [],
   "source": [
    "to_do = ['1. Hit the gym', '2. Pay bills', '3. Meet George', '4. Buy eggs', '5. Read a book']"
   ]
  },
  {
   "cell_type": "code",
   "execution_count": 14,
   "metadata": {
    "nbgrader": {
     "grade": false,
     "grade_id": "cell-e5321552aeca36ad",
     "locked": false,
     "schema_version": 3,
     "solution": true,
     "task": false
    }
   },
   "outputs": [],
   "source": [
    "### BEGIN SOLUTION\n",
    "with open('to_do_list.txt', 'w') as f:\n",
    "    for i in range(len(to_do)):\n",
    "        f.write(to_do[i]+'\\n')\n",
    "### END SOLUTION"
   ]
  },
  {
   "cell_type": "markdown",
   "metadata": {
    "slideshow": {
     "slide_type": "slide"
    }
   },
   "source": [
    "Does the file look like you expected?"
   ]
  },
  {
   "cell_type": "code",
   "execution_count": 15,
   "metadata": {
    "slideshow": {
     "slide_type": "fragment"
    }
   },
   "outputs": [
    {
     "name": "stdout",
     "output_type": "stream",
     "text": [
      "1. Hit the gym\n",
      "2. Pay bills\n",
      "3. Meet George\n",
      "4. Buy eggs\n",
      "5. Read a book\n",
      "\n"
     ]
    }
   ],
   "source": [
    "with open('to_do_list.txt', 'r') as f:    \n",
    "    print(f.read())"
   ]
  },
  {
   "cell_type": "markdown",
   "metadata": {},
   "source": [
    "# Part 3: Python Containers and Dictionaries\n",
    "\n",
    "Dictionaries (or simply `dict`) are a central building block of python. Python dicts are constructed from pairs of keys and values, making them extremely versatile for data storage. Like list, they can contain deep nested structures, e.g. a dict of dicts of lists. You can learn more about this in the following video:"
   ]
  },
  {
   "cell_type": "code",
   "execution_count": 16,
   "metadata": {
    "scrolled": true
   },
   "outputs": [
    {
     "data": {
      "image/jpeg": "[encoded data removed]",
      "text/html": [
       "\n",
       "        <iframe\n",
       "            width=\"640\"\n",
       "            height=\"360\"\n",
       "            src=\"https://www.youtube.com/embed/XeN7RY1MwFM\"\n",
       "            frameborder=\"0\"\n",
       "            allowfullscreen\n",
       "            \n",
       "        ></iframe>\n",
       "        "
      ],
      "text/plain": [
       "<IPython.lib.display.YouTubeVideo at 0x105406400>"
      ]
     },
     "execution_count": 16,
     "metadata": {},
     "output_type": "execute_result"
    }
   ],
   "source": [
    "from IPython.display import YouTubeVideo\n",
    "YouTubeVideo('XeN7RY1MwFM', width=640, height=360)"
   ]
  },
  {
   "cell_type": "markdown",
   "metadata": {},
   "source": [
    "Try running the code below, where the keys are strings (names from recent Danish prime ministers) and values are also strings (e.g. political affiliation):"
   ]
  },
  {
   "cell_type": "code",
   "execution_count": 17,
   "metadata": {
    "slideshow": {
     "slide_type": "-"
    }
   },
   "outputs": [],
   "source": [
    "my_dict1 = {'Anders': \"Venstre\",\n",
    "            'Helle': \"Socialdemokratiet\",\n",
    "            'Lars': \"Venstre\",\n",
    "            'Mette': \"Socialdemokratiet\"}"
   ]
  },
  {
   "cell_type": "markdown",
   "metadata": {
    "slideshow": {
     "slide_type": "slide"
    }
   },
   "source": [
    "Now,  print the party of some (former) Danish prime minister by replacing `'Name'` below."
   ]
  },
  {
   "cell_type": "code",
   "execution_count": 18,
   "metadata": {},
   "outputs": [
    {
     "ename": "KeyError",
     "evalue": "'NAME'",
     "output_type": "error",
     "traceback": [
      "\u001b[0;31m---------------------------------------------------------------------------\u001b[0m",
      "\u001b[0;31mKeyError\u001b[0m                                  Traceback (most recent call last)",
      "Cell \u001b[0;32mIn[18], line 1\u001b[0m\n\u001b[0;32m----> 1\u001b[0m \u001b[38;5;28mprint\u001b[39m(\u001b[43mmy_dict1\u001b[49m\u001b[43m[\u001b[49m\u001b[38;5;124;43m'\u001b[39;49m\u001b[38;5;124;43mNAME\u001b[39;49m\u001b[38;5;124;43m'\u001b[39;49m\u001b[43m]\u001b[49m)\n",
      "\u001b[0;31mKeyError\u001b[0m: 'NAME'"
     ]
    }
   ],
   "source": [
    "print(my_dict1['NAME'])"
   ]
  },
  {
   "cell_type": "markdown",
   "metadata": {},
   "source": [
    "> **Ex. 5.3.1**: Create an empty dictionary `words` using the `dict()`function. Then add each of the words in `['animal', 'coffee', 'python', 'unit', 'knowledge', 'tread', 'arise']` as a key, with the value being a boolean indicator for whether the word begins with a vowel. The results should look like `{'bacon': False, 'asynchronous': True ...}`.\n",
    "\n",
    "> _Hint:_ One approach is to first construct a function that asseses whether a given word begins with a vowel or not."
   ]
  },
  {
   "cell_type": "code",
   "execution_count": 19,
   "metadata": {
    "nbgrader": {
     "grade": false,
     "grade_id": "cell-81e592c15ce8ee6d",
     "locked": false,
     "schema_version": 3,
     "solution": true,
     "task": false
    }
   },
   "outputs": [],
   "source": [
    "### BEGIN SOLUTION\n",
    "W =  ['animal', 'coffee', 'python', 'unit', 'knowledge', 'tread', 'arise']\n",
    "vowels = ['a', 'e', 'i', 'o', 'u', 'y']\n",
    "words = {}\n",
    "\n",
    "for i in range(len(W)):\n",
    "    words[W[i]] = W[i][0] in vowels\n",
    "### END SOLUTION"
   ]
  },
  {
   "cell_type": "markdown",
   "metadata": {},
   "source": [
    "> **Ex. 5.3.2:** Loop through the dictionary `words`. In each iteration, you should print a proper sentence stating if the current word begins with a vowel or not. \n",
    "\n",
    "> _Hint:_ You can loop through both keys and values simultaneously with the `.items()` method. [This](https://www.tutorialspoint.com/python/python_dictionary.htm) and [this](https://stackoverflow.com/questions/3294889/iterating-over-dictionaries-using-for-loops) might help you."
   ]
  },
  {
   "cell_type": "code",
   "execution_count": 20,
   "metadata": {
    "nbgrader": {
     "grade": false,
     "grade_id": "cell-333a6d7713f78839",
     "locked": false,
     "schema_version": 3,
     "solution": true,
     "task": false
    }
   },
   "outputs": [
    {
     "name": "stdout",
     "output_type": "stream",
     "text": [
      "Animal begins with a vowel!\n",
      "Coffee does not begin with a vowel...\n",
      "Python does not begin with a vowel...\n",
      "Unit begins with a vowel!\n",
      "Knowledge does not begin with a vowel...\n",
      "Tread does not begin with a vowel...\n",
      "Arise begins with a vowel!\n"
     ]
    }
   ],
   "source": [
    "### BEGIN SOLUTION\n",
    "for key, value in words.items():\n",
    "    if value == True:\n",
    "        print(key.capitalize() + ' begins with a vowel!')\n",
    "    else:\n",
    "        print(key.capitalize() + ' does not begin with a vowel...')\n",
    "### END SOLUTION"
   ]
  },
  {
   "cell_type": "markdown",
   "metadata": {
    "slideshow": {
     "slide_type": "slide"
    }
   },
   "source": [
    "In the video, we also introduced the popular JSON file format which can store lists and dictionaries and hold the three fundamental data types `float`, `int` and `str`. The code example below uses the JSON module to save our dictionary. We use a trick by first converting the JSON file to a string. This can be done with the function `dumps` in the module `json`:"
   ]
  },
  {
   "cell_type": "code",
   "execution_count": 21,
   "metadata": {},
   "outputs": [
    {
     "name": "stdout",
     "output_type": "stream",
     "text": [
      "{\"animal\": true, \"coffee\": false, \"python\": false, \"unit\": true, \"knowledge\": false, \"tread\": false, \"arise\": true}\n"
     ]
    }
   ],
   "source": [
    "import json\n",
    "\n",
    "with open('my_file.JSON', 'w') as f:\n",
    "    my_json_str = json.dumps(words) # convert dictonary to string with JSON formatting\n",
    "    f.write(my_json_str) # write the string to file\n",
    "\n",
    "with open('my_file.JSON', 'r') as f:\n",
    "    print(f.read()) # read the string from file"
   ]
  },
  {
   "cell_type": "markdown",
   "metadata": {},
   "source": [
    "> **Ex. 5.3.3:** Install `https://pypi.org/project/Random-Word/` (documentation [here](https://pypi.org/project/Random-Word/)) by typing `pip install random-word` in your *Anaconda prompt*, and then run the line below. Doing so, you should get a list of 100 randomly drawn words. Now, create a dictionary that contains the length of each of these words (i.e. like `{'livering': 8, 'reiterate': 9,...}`) and save it as a json-file called `r_words.JSON`. Then read it and make sure that you got everything right."
   ]
  },
  {
   "cell_type": "code",
   "execution_count": 33,
   "metadata": {},
   "outputs": [],
   "source": [
    "from random_word import RandomWords\n",
    "r = RandomWords()\n",
    "r_words = [r.get_random_word() for _ in range(100)]"
   ]
  },
  {
   "cell_type": "code",
   "execution_count": 35,
   "metadata": {
    "nbgrader": {
     "grade": false,
     "grade_id": "cell-c4a946f4ae699bfc",
     "locked": false,
     "schema_version": 3,
     "solution": true,
     "task": false
    }
   },
   "outputs": [
    {
     "name": "stdout",
     "output_type": "stream",
     "text": [
      "{\"riprapped\": 9, \"haled\": 5, \"sinoper\": 7, \"vestigal\": 8, \"unevoked\": 8, \"ageustia\": 8, \"guerickian\": 10, \"doorknobs\": 9, \"impingence\": 10, \"coralist\": 8, \"totalisms\": 9, \"calver\": 6, \"eupnoeas\": 8, \"hinged\": 6, \"saltshaker\": 10, \"nonfestiveness\": 14, \"wheeled\": 7, \"ixion\": 5, \"paludicolous\": 12, \"jiminy\": 6, \"recircles\": 9, \"microcoat\": 9, \"tyrrheni\": 8, \"nonobviously\": 12, \"prideweed\": 9, \"archivault\": 10, \"botan\": 5, \"discolorated\": 12, \"douroucouli\": 11, \"limaille\": 8, \"coemperor\": 9, \"keyed\": 5, \"uniteability\": 12, \"mandir\": 6, \"officerless\": 11, \"preconfiding\": 12, \"antiarin\": 8, \"aperiodicity\": 12, \"muchachos\": 9, \"voodooed\": 8, \"preparations\": 12, \"profaning\": 9, \"unfolds\": 7, \"unattainable\": 12, \"intrap\": 6, \"goatbeard\": 9, \"lophobranch\": 11, \"jateorhizin\": 11, \"sachems\": 7, \"dumfounding\": 11, \"isocheimenal\": 12, \"omphacy\": 7, \"coifs\": 5, \"postacetabular\": 14, \"malduck\": 7, \"zona\": 4, \"unhealed\": 8, \"uncrib\": 6, \"ecesis\": 6, \"scurrile\": 8, \"newfanglement\": 13, \"bemoat\": 6, \"oddment\": 7, \"jumpable\": 8, \"masterhood\": 10, \"nondisparaging\": 14, \"calibres\": 8, \"frowziness\": 10, \"immundicity\": 11, \"exulcerating\": 12, \"dermatoplasty\": 13, \"stem\": 4, \"sparid\": 6, \"thermospheres\": 13, \"calycozoan\": 10, \"naprapathy\": 10, \"enalyron\": 8, \"photophone\": 10, \"mootch\": 6, \"hydroparastatae\": 15, \"raptured\": 8, \"kilntree\": 8, \"wax\": 3, \"spiremes\": 8, \"disulfuric\": 10, \"sulpharsenite\": 13, \"karval\": 6, \"briberies\": 9, \"convertise\": 10, \"unsurlily\": 9, \"rhizostomous\": 12, \"ripsnorting\": 11, \"nonflyable\": 10, \"ruffles\": 7, \"unsoured\": 8, \"peabrain\": 8, \"midwinters\": 10, \"baragouin\": 9, \"fought\": 6, \"acuminose\": 9, \"pityingly\": 9, \"ampoules\": 8, \"slanderously\": 12, \"baybush\": 7, \"hedgehop\": 8, \"dateableness\": 12, \"nudge\": 5, \"triableness\": 11, \"polygonaceae\": 12, \"panococo\": 8, \"pterodactylous\": 14, \"serena\": 6, \"etherialisation\": 15, \"fishpond\": 8, \"afore\": 5, \"protists\": 8, \"wavelet\": 7, \"inconsonantly\": 13, \"ankyloproctia\": 13, \"endophragm\": 10, \"complins\": 8, \"proactive\": 9, \"myelodiastasis\": 14, \"gondolas\": 8, \"curiage\": 7, \"poetisers\": 9, \"fount\": 5, \"onanisms\": 8, \"lapilliform\": 11, \"antaios\": 7, \"encrinus\": 8, \"phoenixes\": 9, \"bensail\": 7, \"spermatial\": 10, \"palaeophytology\": 15, \"boundedly\": 9, \"uncontriteness\": 14, \"lubric\": 6, \"jenson\": 6, \"baseborn\": 8, \"antiprostate\": 12, \"encinal\": 7, \"culebra\": 7, \"phlegmasia\": 10, \"hectowatt\": 9, \"porgo\": 5, \"tubesmith\": 9, \"camize\": 6, \"fidded\": 6, \"ornithomorphic\": 14, \"microlepidopterist\": 18, \"preescape\": 9, \"contributor\": 11, \"englishes\": 9, \"impresas\": 8, \"duntle\": 6, \"smoot\": 5, \"unlizardlike\": 12, \"pluses\": 6, \"rebato\": 6, \"prerequire\": 10, \"apothecaryship\": 14, \"myocardiogram\": 13, \"burhead\": 7, \"divariant\": 9, \"proctorrhea\": 11, \"unimbrued\": 9, \"dalesmen\": 8, \"phrenoplegia\": 12, \"apospory\": 8, \"elucidates\": 10, \"intercommunity\": 14, \"auh\": 3, \"tyrannously\": 11, \"forbbore\": 8, \"nonconversationally\": 19, \"unchiding\": 9, \"acquainted\": 10, \"khanjee\": 7, \"trypaneid\": 9, \"nonexpansiveness\": 16, \"napalming\": 9, \"rhadamanthys\": 12, \"gloomfully\": 10, \"eosins\": 6, \"amasesis\": 8, \"washdown\": 8, \"photographee\": 12, \"agreation\": 9, \"silane\": 6, \"lethals\": 7, \"runer\": 5, \"uxoricide\": 9, \"undoctrinal\": 11, \"fibroblast\": 10, \"westernise\": 10, \"triquetric\": 10, \"laundrymaid\": 11, \"unassuming\": 10, \"garrison\": 8, \"farcelike\": 9, \"celtidaceae\": 11, \"oversoon\": 8, \"encyclopedical\": 14, \"idiocyclophanous\": 16, \"diogenic\": 8, \"nontheologically\": 16, \"interfertility\": 14, \"mycocyte\": 8, \"thoracic\": 8, \"nonbase\": 7, \"purpie\": 6, \"scarping\": 8, \"foreranks\": 9, \"noncreativeness\": 15, \"underpower\": 10, \"hm\": 2, \"mycetous\": 8, \"badarrah\": 8, \"reperceived\": 11, \"harassment\": 10, \"daybill\": 7, \"deputising\": 10, \"nonfeasor\": 9, \"unusurious\": 10, \"bigamies\": 8, \"trichophyllous\": 14, \"amalekite\": 9, \"beworn\": 6, \"rakehellish\": 11, \"disputable\": 10, \"traitory\": 8, \"zymograms\": 9, \"monostichic\": 11, \"positivistic\": 12, \"edify\": 5, \"hairweed\": 8, \"mustache\": 8, \"goldonian\": 9, \"eucrite\": 7, \"technism\": 8, \"chrysohermidin\": 14, \"secrecies\": 9, \"nondictatorial\": 14, \"toe\": 3, \"harrisia\": 8, \"diazoma\": 7, \"conventionize\": 13, \"willable\": 8, \"nonverticalness\": 15, \"expediters\": 10, \"avenery\": 7, \"multidiscipline\": 15, \"contingently\": 12, \"solations\": 9, \"bradysphygmia\": 13, \"draughtiest\": 11, \"parodical\": 9, \"motiles\": 7, \"crickle\": 7, \"hungerweed\": 10, \"nonrealistically\": 16, \"suppurate\": 9, \"jackie\": 6, \"hypertragic\": 11, \"anchietin\": 9, \"haunt\": 5, \"zygosity\": 8, \"dextrotartaric\": 14, \"gershon\": 7, \"radious\": 7, \"abcess\": 6, \"overswim\": 8, \"cherishment\": 11, \"lancely\": 7, \"crowshay\": 8, \"sedang\": 6, \"rattlepated\": 11, \"strig\": 5, \"causus\": 6, \"monaphase\": 9, \"josiah\": 6, \"musrol\": 6, \"diseur\": 6, \"sewings\": 7, \"inshrining\": 10, \"rounders\": 8, \"bromid\": 6, \"heliolite\": 9, \"nasillation\": 11, \"uproad\": 6, \"kiddie\": 6, \"outburnt\": 8, \"antapocha\": 9, \"groined\": 7, \"semiproselyte\": 13, \"vicuna\": 6, \"ung\": 3, \"forswore\": 8, \"aveny\": 5, \"pinacoline\": 10, \"rhumba\": 6, \"unactable\": 9, \"apomictical\": 11, \"untaintedness\": 13, \"carefully\": 9, \"dryfarm\": 7, \"hellene\": 7, \"intoxicator\": 11, \"bipinnatifid\": 12, \"bilification\": 12, \"bakshis\": 7, \"schmoos\": 7, \"siffleuses\": 10, \"galvanist\": 9, \"overcured\": 9, \"northwestwards\": 14, \"norwester\": 9, \"servilely\": 9, \"kilties\": 7, \"bhoot\": 5, \"rubus\": 5, \"lithosis\": 8, \"ohmically\": 9, \"moonbow\": 7, \"grooming\": 8, \"tailor\": 6, \"wise\": 4, \"euchlorhydria\": 13, \"conjugality\": 11, \"counterweighted\": 15, \"metamorphosy\": 12, \"tetralogue\": 10, \"glutaminic\": 10, \"vignettes\": 9, \"categorematically\": 17, \"botete\": 6, \"skiddier\": 8, \"epistolographist\": 16, \"acanthopodous\": 13, \"accelerable\": 11, \"novelettes\": 10, \"euphrasia\": 9, \"electrotautomerism\": 18, \"ulcerations\": 11, \"conteck\": 7, \"pitocin\": 7, \"unsinuated\": 10, \"vitalizers\": 10, \"chirivita\": 9, \"lairdly\": 7, \"genesiology\": 11, \"geoglossum\": 10, \"anglomaniac\": 11, \"arion\": 5, \"ear\": 3, \"purlicue\": 8, \"bitternut\": 9, \"salterns\": 8, \"aminothiophen\": 13, \"uneloquent\": 10, \"embassage\": 9, \"counteragitate\": 14, \"radicel\": 7, \"guiders\": 7, \"nasoprognathism\": 15, \"savintry\": 8, \"civilises\": 9, \"undespotically\": 14, \"manteel\": 7, \"elabrate\": 8, \"bailliage\": 9, \"cloured\": 7, \"disprejudice\": 12, \"megatherine\": 11, \"nictitated\": 10, \"heroin\": 6, \"scholiastic\": 11, \"resifting\": 9, \"grappling\": 9, \"unplaced\": 8, \"nonrectified\": 12, \"containments\": 12, \"unobliging\": 10, \"miswisdom\": 9, \"qu\": 2, \"jettisonable\": 12, \"unstabilized\": 12, \"ecotypic\": 8, \"undigesting\": 11, \"thermically\": 11, \"physophoran\": 11, \"nitidous\": 8, \"zoonitic\": 8, \"polyneural\": 10, \"ramose\": 6, \"constricts\": 10, \"minced\": 6, \"jeweled\": 7, \"slummier\": 8, \"transmittant\": 12, \"scaleless\": 9, \"unman\": 5, \"understructures\": 15, \"shepherdhood\": 12, \"taxability\": 10, \"misunderstanders\": 16, \"incorrectly\": 11, \"cosie\": 5, \"gustative\": 9, \"loricates\": 9, \"theromorpha\": 11, \"weighters\": 9, \"earlock\": 7, \"achenia\": 7, \"lutrine\": 7, \"deregulatory\": 12, \"lifebuoy\": 8, \"artillerymen\": 12, \"flatweed\": 8, \"bulldozed\": 9, \"rhodium\": 7, \"cognize\": 7, \"spanghew\": 8, \"nitrifying\": 10, \"miniums\": 7, \"impracticability\": 16, \"lusciousness\": 12, \"astrophil\": 9, \"pernychia\": 9, \"counterion\": 10, \"athwartwise\": 11, \"cays\": 4, \"undejected\": 10, \"childing\": 8, \"roer\": 4, \"verbalizations\": 14, \"outtongued\": 10, \"pseudorepublican\": 16, \"tarasco\": 7, \"definiendum\": 11, \"stuphe\": 6, \"beerocracy\": 10, \"flaggers\": 8, \"postorgastic\": 12, \"premutinying\": 12, \"filaria\": 7, \"glycerin\": 8, \"pulvic\": 6, \"dukuma\": 6, \"acetylbenzoic\": 13, \"iresine\": 7, \"hyperbulia\": 10, \"beside\": 6, \"nonelemental\": 12, \"nervous\": 7, \"mozzetta\": 8, \"absfarad\": 8, \"perfumy\": 7, \"disclosing\": 10, \"pancreatalgia\": 13, \"effluents\": 9, \"moonproof\": 9, \"gadder\": 6, \"untrashed\": 9, \"centenionalis\": 13, \"paedometer\": 10, \"aerenterectasia\": 15, \"persuasibly\": 11, \"dorippid\": 8, \"laxly\": 5, \"nematoidea\": 10, \"unpatriarchal\": 13, \"kippered\": 8, \"solonic\": 7, \"galette\": 7, \"memorandums\": 11, \"amphicome\": 9, \"supported\": 9, \"leisureliness\": 13, \"unrejoicing\": 11, \"shoreward\": 9, \"nonprofane\": 10, \"uncommonly\": 10, \"zooecia\": 7, \"snood\": 5, \"unsolitary\": 10, \"gallify\": 7, \"omnidistance\": 12, \"aurivorous\": 10, \"outeate\": 7, \"outway\": 6, \"ferrotyping\": 11, \"granth\": 6, \"pourability\": 11, \"casemaker\": 9, \"bloodlettings\": 13, \"gingely\": 7, \"laundrywomen\": 12, \"nonremonstrance\": 15}\n"
     ]
    }
   ],
   "source": [
    "### BEGIN SOLUTION\n",
    "word_dict = {}\n",
    "for i in range(len(r_words)):\n",
    "    word_dict[r_words[i]] = len(r_words[i])\n",
    "    \n",
    "with open('r_words.JSON', 'w') as f:\n",
    "    my_json_str = json.dumps(word_dict) # convert dictonary to string with JSON formatting\n",
    "    f.write(my_json_str) # write the string to file\n",
    "\n",
    "with open('r_words.JSON', 'r') as f:\n",
    "    print(f.read()) # read the string from file\n",
    "### END SOLUTION"
   ]
  },
  {
   "cell_type": "markdown",
   "metadata": {},
   "source": [
    "<br>\n",
    "\n",
    "# Part 4: Python and the Web\n",
    "\n",
    "The internet is a massive source for collecting data. Watch the video below to get an overview of the most fundamental protocols and how we work with them."
   ]
  },
  {
   "cell_type": "code",
   "execution_count": 36,
   "metadata": {},
   "outputs": [
    {
     "data": {
      "image/jpeg": "[encoded data removed]",
      "text/html": [
       "\n",
       "        <iframe\n",
       "            width=\"640\"\n",
       "            height=\"360\"\n",
       "            src=\"https://www.youtube.com/embed/D6FFt0z8pFc\"\n",
       "            frameborder=\"0\"\n",
       "            allowfullscreen\n",
       "            \n",
       "        ></iframe>\n",
       "        "
      ],
      "text/plain": [
       "<IPython.lib.display.YouTubeVideo at 0x109723b50>"
      ]
     },
     "execution_count": 36,
     "metadata": {},
     "output_type": "execute_result"
    }
   ],
   "source": [
    "YouTubeVideo('D6FFt0z8pFc', width=640, height=360)"
   ]
  },
  {
   "cell_type": "markdown",
   "metadata": {
    "slideshow": {
     "slide_type": "slide"
    }
   },
   "source": [
    "## Application Programming Interface (API)\n",
    "\n",
    "APIs are protocols that allow us to request information and/or services from the provider of the API. In this course, we are mainly interested in APIs that provide data as a response to our requests. Watch the video below to get a sense of what APIs exist and how they work."
   ]
  },
  {
   "cell_type": "code",
   "execution_count": 37,
   "metadata": {},
   "outputs": [
    {
     "data": {
      "image/jpeg": "[encoded data removed]",
      "text/html": [
       "\n",
       "        <iframe\n",
       "            width=\"640\"\n",
       "            height=\"360\"\n",
       "            src=\"https://www.youtube.com/embed/PvMIubOCUD8\"\n",
       "            frameborder=\"0\"\n",
       "            allowfullscreen\n",
       "            \n",
       "        ></iframe>\n",
       "        "
      ],
      "text/plain": [
       "<IPython.lib.display.YouTubeVideo at 0x1097231f0>"
      ]
     },
     "execution_count": 37,
     "metadata": {},
     "output_type": "execute_result"
    }
   ],
   "source": [
    "YouTubeVideo('PvMIubOCUD8', width=640, height=360)"
   ]
  },
  {
   "cell_type": "markdown",
   "metadata": {},
   "source": [
    "## Building the Queries\n",
    "We will now move on to understanding how we can interact with a web API in Python. First we will see how to build a query, which is simply a web address. By typing in a specific web address, the web server will receive information from us.\n",
    "\n",
    "In the example below we build a URL that allows us to check out which repositories ISDSUCPH has publicly available."
   ]
  },
  {
   "cell_type": "code",
   "execution_count": 38,
   "metadata": {
    "slideshow": {
     "slide_type": "fragment"
    }
   },
   "outputs": [
    {
     "name": "stdout",
     "output_type": "stream",
     "text": [
      "https://api.github.com/users/isdsucph/repos\n"
     ]
    }
   ],
   "source": [
    "server_url = 'https://api.github.com'\n",
    "endpoint_path = '/users/isdsucph/repos'\n",
    "\n",
    "url = server_url + endpoint_path\n",
    "\n",
    "print(url)"
   ]
  },
  {
   "cell_type": "markdown",
   "metadata": {
    "slideshow": {
     "slide_type": "slide"
    }
   },
   "source": [
    "## Sending the Query\n",
    "Python has a smart module, named `requests` (get it with `pip install requests`), that allows us to interact with the web. When we request a URL, we get a response in return. Among other things, it allows us to inspect the HTML code. In the example below, we query the URL for the GitHub API we made above. "
   ]
  },
  {
   "cell_type": "code",
   "execution_count": 39,
   "metadata": {
    "slideshow": {
     "slide_type": "fragment"
    }
   },
   "outputs": [],
   "source": [
    "import requests # import the module requests\n",
    "response = requests.get(url) # submit query with `get` and save response as object"
   ]
  },
  {
   "cell_type": "markdown",
   "metadata": {},
   "source": [
    "When we examine the response, we can see the HTML string is pretty long, so we limit the initial output to the first 1,000 characters. "
   ]
  },
  {
   "cell_type": "code",
   "execution_count": 40,
   "metadata": {
    "slideshow": {
     "slide_type": "fragment"
    }
   },
   "outputs": [
    {
     "name": "stdout",
     "output_type": "stream",
     "text": [
      "20452 \n",
      "\n",
      "[{\"id\":381957904,\"node_id\":\"MDEwOlJlcG9zaXRvcnkzODE5NTc5MDQ=\",\"name\":\"isds2021\",\"full_name\":\"isdsucph/isds2021\",\"private\":false,\"owner\":{\"login\":\"isdsucph\",\"id\":86770179,\"node_id\":\"MDQ6VXNlcjg2NzcwMTc5\",\"avatar_url\":\"https://avatars.githubusercontent.com/u/86770179?v=4\",\"gravatar_id\":\"\",\"url\":\"https://api.github.com/users/isdsucph\",\"html_url\":\"https://github.com/isdsucph\",\"followers_url\":\"https://api.github.com/users/isdsucph/followers\",\"following_url\":\"https://api.github.com/users/isdsucph/following{/other_user}\",\"gists_url\":\"https://api.github.com/users/isdsucph/gists{/gist_id}\",\"starred_url\":\"https://api.github.com/users/isdsucph/starred{/owner}{/repo}\",\"subscriptions_url\":\"https://api.github.com/users/isdsucph/subscriptions\",\"organizations_url\":\"https://api.github.com/users/isdsucph/orgs\",\"repos_url\":\"https://api.github.com/users/isdsucph/repos\",\"events_url\":\"https://api.github.com/users/isdsucph/events{/privacy}\",\"received_events_url\":\"https://api.github.com/users/isdsucph/receive\n"
     ]
    }
   ],
   "source": [
    "print(len(response.text),'\\n') # print length of HTML\n",
    "print(response.text[:1000]) # print first 1,000 characters of HTML "
   ]
  },
  {
   "cell_type": "markdown",
   "metadata": {},
   "source": [
    "Looking closely, we notice how the structure resembles lists and dictionaries (note that depending on the context, these responses can be VERY difficult to make sense of from simply printing - just as in this case). Therefore, we try to convert it by assuming that it is structured as JSON."
   ]
  },
  {
   "cell_type": "code",
   "execution_count": 41,
   "metadata": {
    "scrolled": true
   },
   "outputs": [
    {
     "data": {
      "text/plain": [
       "{'id': 381957904,\n",
       " 'node_id': 'MDEwOlJlcG9zaXRvcnkzODE5NTc5MDQ=',\n",
       " 'name': 'isds2021',\n",
       " 'full_name': 'isdsucph/isds2021',\n",
       " 'private': False,\n",
       " 'owner': {'login': 'isdsucph',\n",
       "  'id': 86770179,\n",
       "  'node_id': 'MDQ6VXNlcjg2NzcwMTc5',\n",
       "  'avatar_url': 'https://avatars.githubusercontent.com/u/86770179?v=4',\n",
       "  'gravatar_id': '',\n",
       "  'url': 'https://api.github.com/users/isdsucph',\n",
       "  'html_url': 'https://github.com/isdsucph',\n",
       "  'followers_url': 'https://api.github.com/users/isdsucph/followers',\n",
       "  'following_url': 'https://api.github.com/users/isdsucph/following{/other_user}',\n",
       "  'gists_url': 'https://api.github.com/users/isdsucph/gists{/gist_id}',\n",
       "  'starred_url': 'https://api.github.com/users/isdsucph/starred{/owner}{/repo}',\n",
       "  'subscriptions_url': 'https://api.github.com/users/isdsucph/subscriptions',\n",
       "  'organizations_url': 'https://api.github.com/users/isdsucph/orgs',\n",
       "  'repos_url': 'https://api.github.com/users/isdsucph/repos',\n",
       "  'events_url': 'https://api.github.com/users/isdsucph/events{/privacy}',\n",
       "  'received_events_url': 'https://api.github.com/users/isdsucph/received_events',\n",
       "  'type': 'User',\n",
       "  'site_admin': False},\n",
       " 'html_url': 'https://github.com/isdsucph/isds2021',\n",
       " 'description': 'Introduction to Social Data Science 2021 - a summer school course https://isdsucph.github.io/isds2021/',\n",
       " 'fork': False,\n",
       " 'url': 'https://api.github.com/repos/isdsucph/isds2021',\n",
       " 'forks_url': 'https://api.github.com/repos/isdsucph/isds2021/forks',\n",
       " 'keys_url': 'https://api.github.com/repos/isdsucph/isds2021/keys{/key_id}',\n",
       " 'collaborators_url': 'https://api.github.com/repos/isdsucph/isds2021/collaborators{/collaborator}',\n",
       " 'teams_url': 'https://api.github.com/repos/isdsucph/isds2021/teams',\n",
       " 'hooks_url': 'https://api.github.com/repos/isdsucph/isds2021/hooks',\n",
       " 'issue_events_url': 'https://api.github.com/repos/isdsucph/isds2021/issues/events{/number}',\n",
       " 'events_url': 'https://api.github.com/repos/isdsucph/isds2021/events',\n",
       " 'assignees_url': 'https://api.github.com/repos/isdsucph/isds2021/assignees{/user}',\n",
       " 'branches_url': 'https://api.github.com/repos/isdsucph/isds2021/branches{/branch}',\n",
       " 'tags_url': 'https://api.github.com/repos/isdsucph/isds2021/tags',\n",
       " 'blobs_url': 'https://api.github.com/repos/isdsucph/isds2021/git/blobs{/sha}',\n",
       " 'git_tags_url': 'https://api.github.com/repos/isdsucph/isds2021/git/tags{/sha}',\n",
       " 'git_refs_url': 'https://api.github.com/repos/isdsucph/isds2021/git/refs{/sha}',\n",
       " 'trees_url': 'https://api.github.com/repos/isdsucph/isds2021/git/trees{/sha}',\n",
       " 'statuses_url': 'https://api.github.com/repos/isdsucph/isds2021/statuses/{sha}',\n",
       " 'languages_url': 'https://api.github.com/repos/isdsucph/isds2021/languages',\n",
       " 'stargazers_url': 'https://api.github.com/repos/isdsucph/isds2021/stargazers',\n",
       " 'contributors_url': 'https://api.github.com/repos/isdsucph/isds2021/contributors',\n",
       " 'subscribers_url': 'https://api.github.com/repos/isdsucph/isds2021/subscribers',\n",
       " 'subscription_url': 'https://api.github.com/repos/isdsucph/isds2021/subscription',\n",
       " 'commits_url': 'https://api.github.com/repos/isdsucph/isds2021/commits{/sha}',\n",
       " 'git_commits_url': 'https://api.github.com/repos/isdsucph/isds2021/git/commits{/sha}',\n",
       " 'comments_url': 'https://api.github.com/repos/isdsucph/isds2021/comments{/number}',\n",
       " 'issue_comment_url': 'https://api.github.com/repos/isdsucph/isds2021/issues/comments{/number}',\n",
       " 'contents_url': 'https://api.github.com/repos/isdsucph/isds2021/contents/{+path}',\n",
       " 'compare_url': 'https://api.github.com/repos/isdsucph/isds2021/compare/{base}...{head}',\n",
       " 'merges_url': 'https://api.github.com/repos/isdsucph/isds2021/merges',\n",
       " 'archive_url': 'https://api.github.com/repos/isdsucph/isds2021/{archive_format}{/ref}',\n",
       " 'downloads_url': 'https://api.github.com/repos/isdsucph/isds2021/downloads',\n",
       " 'issues_url': 'https://api.github.com/repos/isdsucph/isds2021/issues{/number}',\n",
       " 'pulls_url': 'https://api.github.com/repos/isdsucph/isds2021/pulls{/number}',\n",
       " 'milestones_url': 'https://api.github.com/repos/isdsucph/isds2021/milestones{/number}',\n",
       " 'notifications_url': 'https://api.github.com/repos/isdsucph/isds2021/notifications{?since,all,participating}',\n",
       " 'labels_url': 'https://api.github.com/repos/isdsucph/isds2021/labels{/name}',\n",
       " 'releases_url': 'https://api.github.com/repos/isdsucph/isds2021/releases{/id}',\n",
       " 'deployments_url': 'https://api.github.com/repos/isdsucph/isds2021/deployments',\n",
       " 'created_at': '2021-07-01T08:09:57Z',\n",
       " 'updated_at': '2022-12-28T14:54:23Z',\n",
       " 'pushed_at': '2021-08-23T08:48:57Z',\n",
       " 'git_url': 'git://github.com/isdsucph/isds2021.git',\n",
       " 'ssh_url': 'git@github.com:isdsucph/isds2021.git',\n",
       " 'clone_url': 'https://github.com/isdsucph/isds2021.git',\n",
       " 'svn_url': 'https://github.com/isdsucph/isds2021',\n",
       " 'homepage': '',\n",
       " 'size': 66010,\n",
       " 'stargazers_count': 22,\n",
       " 'watchers_count': 22,\n",
       " 'language': 'Jupyter Notebook',\n",
       " 'has_issues': True,\n",
       " 'has_projects': True,\n",
       " 'has_downloads': True,\n",
       " 'has_wiki': True,\n",
       " 'has_pages': True,\n",
       " 'has_discussions': False,\n",
       " 'forks_count': 38,\n",
       " 'mirror_url': None,\n",
       " 'archived': False,\n",
       " 'disabled': False,\n",
       " 'open_issues_count': 11,\n",
       " 'license': {'key': 'mit',\n",
       "  'name': 'MIT License',\n",
       "  'spdx_id': 'MIT',\n",
       "  'url': 'https://api.github.com/licenses/mit',\n",
       "  'node_id': 'MDc6TGljZW5zZTEz'},\n",
       " 'allow_forking': True,\n",
       " 'is_template': False,\n",
       " 'web_commit_signoff_required': False,\n",
       " 'topics': [],\n",
       " 'visibility': 'public',\n",
       " 'forks': 38,\n",
       " 'open_issues': 11,\n",
       " 'watchers': 22,\n",
       " 'default_branch': 'main'}"
      ]
     },
     "execution_count": 41,
     "metadata": {},
     "output_type": "execute_result"
    }
   ],
   "source": [
    "response_json = response.json() # convert response to a list of dicts\n",
    "response_json[0]"
   ]
  },
  {
   "cell_type": "markdown",
   "metadata": {},
   "source": [
    "Now it is easier to see that this is in fact a dictionary. Looking more closely at the output, we can also see that the depth of the dictionary is not trivial - it contains dictionaries of dictionaries.\n",
    "\n",
    "In order to make the output more digestable, use the so-called *pretty printer* that, among other things, arranges the output alphabetically and makes the depth of the output more clearly visible. Take a look and compare with what we had above:"
   ]
  },
  {
   "cell_type": "code",
   "execution_count": null,
   "metadata": {},
   "outputs": [],
   "source": [
    "import pprint #Data pretty printer\n",
    "pprint.pprint(response.json()) #Everything is aranged alphabetically and in appropriate levels"
   ]
  },
  {
   "cell_type": "markdown",
   "metadata": {},
   "source": [
    "## The Punk API\n",
    "\n",
    "Now, it is time for you to request information through an API. First, we will work with the punk API that contains information on a large selection of beers. In this part of exercises, you are going to navigate in the information on these beers. Second, you are going to extract information from the DST (Statistics Denmark) API.\n",
    "\n",
    "The [punk API](https://punkapi.com/) serves information about _beers_. It is a well made and well documented API which makes it great for learning about APIs. \n",
    "\n",
    "> **Ex. 5.4.1:** Read the documentation on the Punk API available [here](https://punkapi.com/documentation/v2). What is the server url (i.e. root endpoint) of the Punk API? Does it require authentication? Then use the Punk API to make a request for the first 80 beers brewed after April, 2004 with an ABV of at least 5."
   ]
  },
  {
   "cell_type": "code",
   "execution_count": 43,
   "metadata": {
    "nbgrader": {
     "grade": false,
     "grade_id": "cell-d6af29d54fd7ded7",
     "locked": false,
     "schema_version": 3,
     "solution": true,
     "task": false
    }
   },
   "outputs": [],
   "source": [
    "### BEGIN SOLUTION\n",
    "\n",
    "# Server URL is 'https://api.punkapi.com/v2/'\n",
    "# No authentication required \n",
    "\n",
    "import requests\n",
    "response = requests.get('https://api.punkapi.com/v2/beers?per_page=80&brewed_after=4-2004&abv_gt=5')\n",
    "### END SOLUTION"
   ]
  },
  {
   "cell_type": "markdown",
   "metadata": {},
   "source": [
    "> **Ex. 5.4.2:** What object type is the API's JSON response? What about the individual items in the container? Convert the response object to a suitable format and answer the following questions:\n",
    "> 1) How many beers are there in the JSON object?\n",
    ">\n",
    "> 2) Print the response with and without the pretty printer. See any difference?\n",
    ">\n",
    "> 3) Now print only the names of the beers in the JSON object using lower case characters.\n",
    ">\n",
    "> 4) Select the beer called Rabiator from the JSON object. What is the suggested food pairing?\n",
    ">\n",
    "> 5) Select the beer called Hello My Name Is Beastie from the JSON object. Which malt ingredients does the Hello My Name Is Beastie contain?\n"
   ]
  },
  {
   "cell_type": "code",
   "execution_count": null,
   "metadata": {
    "nbgrader": {
     "grade": false,
     "grade_id": "cell-1c6a5eef920b6c70",
     "locked": false,
     "schema_version": 3,
     "solution": true,
     "task": false
    }
   },
   "outputs": [],
   "source": [
    "### BEGIN SOLUTION\n",
    "\n",
    "# format is json (see documentation)\n",
    "beers = response.json()\n",
    "\n",
    "# 1) How many beers are in the JSON object?\n",
    "print(f\"Number of beers {len(beers)} \\n\")\n",
    "\n",
    "# 2) Print the response with  the pretty printer\n",
    "pprint.pprint(beers)\n",
    "\n",
    "# 3) Print the names of the beers in the JSON object using lower case characters.\n",
    "print('Beer names:', [b['name'].lower() for b in beers], ' \\n')\n",
    "pprint.pprint(beers)\n",
    "\n",
    "# 4) Select the beer Rabiator from the JSON object. What is the suggested food pairing?\n",
    "print(f'{beers[13][\"name\"]} is the 14th last entry, i.e. index 13.  \\n')\n",
    "ra = beers[13]\n",
    "print('Suggested food pairing for the Rabiator is:', set(i for i in ra['food_pairing']), '\\n')\n",
    "\n",
    "# 5) Select the beer called Hello My Name Is Beastie from the JSON object. Which malt ingredients does the Bourbon Baby contain?\n",
    "print(f'{beers[-2][\"name\"]} is the 2nd last entry, i.e. index -2.  \\n')\n",
    "bb = beers[-2]\n",
    "print('Malt ingredients in Hello My Name Is Beastie:', set(i['name'] for i in bb['ingredients']['malt']))\n",
    "\n",
    "### END SOLUTION"
   ]
  },
  {
   "cell_type": "markdown",
   "metadata": {},
   "source": [
    "> **Ex. 5.4.3:** Save the beers as a JSON file on your machine.\n",
    "\n",
    "> _Hint:_ If still in doubt about how to do this, you might want to take a look at the [json](https://docs.python.org/3/library/json.html) module.\n"
   ]
  },
  {
   "cell_type": "code",
   "execution_count": 45,
   "metadata": {
    "nbgrader": {
     "grade": false,
     "grade_id": "cell-d5feea65f34d4ab1",
     "locked": false,
     "schema_version": 3,
     "solution": true,
     "task": false
    }
   },
   "outputs": [],
   "source": [
    "### BEGIN SOLUTION\n",
    "\n",
    "import json\n",
    "\n",
    "with open('beers.json', 'w') as f:\n",
    "    f.write(json.dumps(beers))\n",
    "\n",
    "with open(\"beers.json\", \"r\") as f:\n",
    "    beers = json.loads(f.read())\n",
    "\n",
    "### END SOLUTION"
   ]
  },
  {
   "cell_type": "markdown",
   "metadata": {},
   "source": [
    "## The API for Statistics Denmark \n",
    "\n",
    "Statistics Denmark (DST) provide an API access to their aggregate data. For developers, they supply a [console](https://api.statbank.dk/console) for testing. In this exercise, we will code up a simple script which can collect data from the DST API. \n",
    "\n",
    "> **Ex 5.4.4:** Use the API console to construct a GET request which retrieves the table FOLK1A split by quarter. The return should be in JSON format. We want all available dates.\n",
    ">\n",
    ">Then write a function `construct_link()` which takes as inputs: a table ID (e.g. `'FOLK1A'`) and a list of strings like `['var1=*', 'var2=somevalue']`. The function should return the proper URL for getting a dataset with the specified variables (e.g. in this case all levels of var1, but only where var2=somevalue).\n",
    "\n",
    "> _Hint:_ The time variable is called 'tid'. To select all available values, set the value-id to '*'. Spend a little time with the console to get a sense of how the URLs are constructed.\n"
   ]
  },
  {
   "cell_type": "code",
   "execution_count": 46,
   "metadata": {
    "nbgrader": {
     "grade": false,
     "grade_id": "cell-d174a99ed0af2f0e",
     "locked": false,
     "schema_version": 3,
     "solution": true,
     "task": false
    }
   },
   "outputs": [
    {
     "data": {
      "text/plain": [
       "'https://api.statbank.dk/v1/data/FOLK1A/JSONSTAT?lang=en&Tid=*'"
      ]
     },
     "execution_count": 46,
     "metadata": {},
     "output_type": "execute_result"
    }
   ],
   "source": [
    "### BEGIN SOLUTION\n",
    "\n",
    "# This is the manually constructed link\n",
    "'https://api.statbank.dk/v1/data/FOLK1A/JSONSTAT?lang=en&Tid=*'\n",
    "\n",
    "# This function will do it for you\n",
    "def construct_link(table_id, variables):\n",
    "    base = f'https://api.statbank.dk/v1/data/{table_id}/JSONSTAT?lang=en'\n",
    "    \n",
    "    for var in variables:\n",
    "        base += f'&{var}'\n",
    "\n",
    "    return base \n",
    "\n",
    "construct_link('FOLK1A', ['Tid=*'])\n",
    "\n",
    "### END SOLUTION"
   ]
  },
  {
   "cell_type": "markdown",
   "metadata": {},
   "source": [
    "When executing the request in the console, you should get a json file as output. Next, lets write some code to load these json files directly into python. \n",
    "\n",
    "\n",
    "> **Ex. 5.4.5:** Use the `requests` module and `construct_link()` to request home value data from the \"EJDFOE1\" table. Get all available years (variable \"Tid\"), but only for Frederiksberg (BOPKOM=147), apartments (EJENTYP=B), market values (VAERDI=100) and average values in DKK units (ENHED=120). Unpack the json payload and store the result. Wrap the whole thing in a function which takes an url as input and returns the corresponding output.\n",
    "\n",
    "> _Hint:_ The `requests.response` object has a `.json()` method. "
   ]
  },
  {
   "cell_type": "code",
   "execution_count": 47,
   "metadata": {
    "nbgrader": {
     "grade": false,
     "grade_id": "cell-33bba55a2e8d0fc5",
     "locked": false,
     "schema_version": 3,
     "solution": true,
     "task": false
    }
   },
   "outputs": [],
   "source": [
    "### BEGIN SOLUTION\n",
    "\n",
    "# Frederiksberg\n",
    "url = construct_link('EJDFOE1', ['Tid=*', 'BOPKOM=147', 'EJENTYP=B', 'VAERDI=100', 'ENHED=120'])\n",
    "\n",
    "def create_data(url):\n",
    "    response = requests.get(url).json()\n",
    "    values = response['dataset']['value']\n",
    "    years = response['dataset']['dimension']['Tid']['category']['index']\n",
    "    years = list(map(int, years))\n",
    "    data = dict(zip(years, values))\n",
    "    return data\n",
    "\n",
    "data = create_data(url)\n",
    "\n",
    "### END SOLUTION"
   ]
  },
  {
   "cell_type": "markdown",
   "metadata": {},
   "source": [
    "> **Ex. 5.4.6:** Extract the values for Frederiksberg in each year. Store the results as a list."
   ]
  },
  {
   "cell_type": "code",
   "execution_count": 48,
   "metadata": {
    "nbgrader": {
     "grade": false,
     "grade_id": "cell-792e1879090acb1f",
     "locked": false,
     "schema_version": 3,
     "solution": true,
     "task": false
    }
   },
   "outputs": [],
   "source": [
    "### BEGIN SOLUTION\n",
    "frederiksberg = list(data.values())\n",
    "### END SOLUTION"
   ]
  },
  {
   "cell_type": "markdown",
   "metadata": {},
   "source": [
    "> **Ex. 5.4.7:** Repeat 5.4.5 and 5.4.6 but this time only for Copenhagen (BOPKOM=101). Store the numbers in a new list and use the `plot_values` (supplied below) function to plot the (log of) the data. Interpret the plot."
   ]
  },
  {
   "cell_type": "code",
   "execution_count": 61,
   "metadata": {},
   "outputs": [],
   "source": [
    "# Just run this once, do not change it.\n",
    "import matplotlib.pyplot as plt \n",
    "import numpy as np\n",
    "\n",
    "def plot_values(val1, val2):\n",
    "    val1 = val1\n",
    "    val2 = val2\n",
    "    \"\"\" Plots lineplot of the number of births split by gender.\n",
    "    \n",
    "    Args: \n",
    "        boys: a list of boy births by year\n",
    "        girls: a list of girl births by year\n",
    "    \"\"\"\n",
    "    if not len(val1) == len(val2):\n",
    "        raise ValueError('There must be the same number of observations for boys and girls')\n",
    "    \n",
    "    labels = [f'{year}' for year in range(2004,2023)]\n",
    "    \n",
    "    plt.grid(color='black', linestyle='-', linewidth=0.1, axis='x')\n",
    "    \n",
    "    plt.plot(range(len(val1)), val1, color = 'blue', label = 'Frederiksberg')\n",
    "    plt.plot(range(len(val1)), val2, color = 'red', label = 'Copenhagen')\n",
    "    plt.yscale(\"log\")\n",
    "    plt.xticks([i for i in range(len(val1)) if i%2 == 0],\n",
    "               [l for i,l in zip(range(len(val1)),labels) if i%2 == 0],\n",
    "               rotation = 'horizontal')\n",
    "    plt.xlabel('Year')\n",
    "    plt.ylabel('Market Value of Apartments')\n",
    "    \n",
    "    plt.legend()\n",
    "    plt.show()"
   ]
  },
  {
   "cell_type": "code",
   "execution_count": 62,
   "metadata": {
    "nbgrader": {
     "grade": false,
     "grade_id": "cell-0ea2577312192992",
     "locked": false,
     "schema_version": 3,
     "solution": true,
     "task": false
    }
   },
   "outputs": [
    {
     "data": {
      "image/png": "[encoded data removed]",
      "text/plain": [
       "<Figure size 640x480 with 1 Axes>"
      ]
     },
     "metadata": {},
     "output_type": "display_data"
    }
   ],
   "source": [
    "### BEGIN SOLUTION\n",
    "\n",
    "url = construct_link('EJDFOE1', ['Tid=*', 'BOPKOM=101', 'EJENTYP=B', 'VAERDI=100', 'ENHED=120'])\n",
    "\n",
    "data = create_data(url)\n",
    "odsherred = list(data.values())\n",
    "\n",
    "plot_values(frederiksberg, odsherred)\n",
    "\n",
    "### END SOLUTION"
   ]
  },
  {
   "cell_type": "markdown",
   "metadata": {},
   "source": [
    "# Part 5: Bonus Exercises $-$ Traffic Data in Copenhagen\n",
    "\n",
    "This set of bonus exercises allows you to apply the tools that you have learned in session 2 to 5. Note that they are not mandatory $-$ rather, our hopes are the exercises will provide you with an additional opportunity to (i) strenghten your data structuring skills and (ii) see how you have already learned a series of skills that work nicely together. \n",
    "\n",
    "In this set of bonus exercises, you will be working with traffic data from Copenhagen Municipality.\n",
    "\n",
    "The municipality have made the data openly available through the [opendata.dk](http://www.opendata.dk/) platform. We will use the data from traffic counters to construct a dataset of hourly traffic. We will use this data to get basic insights on the development in traffic over time and relate it to weather. The gist here is to practice a very important skill in Data Science: being able to quickly fetch data from the web and structure it so that you can work with it. Scraping usually gets a bit more advanced than what we will do today, but the following exercises should give you a taste for how it works. The bulk of these exercise, however, revolve around using the Pandas library to structure and analyze data."
   ]
  },
  {
   "cell_type": "markdown",
   "metadata": {},
   "source": [
    "## Part 5.5.A: Getting some data to work with\n",
    "\n",
    "Hence follows a simple scraping exercise where you (1) collect urls for datasets in the webpage listing data on traffic counters and (2) use these urls to load the data into one dataframe.\n",
    "\n",
    "> **Ex. 5.5.1:** *(Bonus)* Using the requests module, extract the html markup of the webpage data.kk.dk/dataset/faste-trafiktaellinger and store it as a string in a new variable."
   ]
  },
  {
   "cell_type": "code",
   "execution_count": 63,
   "metadata": {
    "nbgrader": {
     "grade": false,
     "grade_id": "cell-66d30cd4ddd300f6",
     "locked": false,
     "schema_version": 3,
     "solution": true,
     "task": false
    }
   },
   "outputs": [],
   "source": [
    "### BEGIN SOLUTION\n",
    "from requests import get \n",
    "\n",
    "url = 'https://www.opendata.dk/city-of-copenhagen/faste-trafiktaellinger'\n",
    "resp = get(url)\n",
    "\n",
    "html = resp.text\n",
    "### END SOLUTION"
   ]
  },
  {
   "cell_type": "markdown",
   "metadata": {},
   "source": [
    "> **Ex. 5.5.2:** *(Bonus)* Using the re module, extract a list of all the urls in the html string and store them in a new variable.\n",
    "\n",
    "> _Hint:_ Try using the re.findall method. You may want to Google around to figure out how to do this. Searching for something along the lines of \"extract all links in html regex python\" and hitting the first StackOverflow link will probably get you farther than reading elaborate documentation."
   ]
  },
  {
   "cell_type": "code",
   "execution_count": 64,
   "metadata": {
    "nbgrader": {
     "grade": false,
     "grade_id": "cell-b6352a75b3acd612",
     "locked": false,
     "schema_version": 3,
     "solution": true,
     "task": false
    }
   },
   "outputs": [],
   "source": [
    "import re \n",
    "\n",
    "### BEGIN SOLUTION\n",
    "rehits = re.findall(r'href=[\\'\"]?([^\\'\" >]+)', html)\n",
    "### END SOLUTION"
   ]
  },
  {
   "cell_type": "markdown",
   "metadata": {},
   "source": [
    "> **Ex. 5.5.3:** *(Bonus)* Create a new variable `datalinks` that only contains the links that point to downloadable traffic data sheets. Some links may be preset more than once on the page. To get the unique links use the `set()` function on `datalinks`.\n",
    "\n",
    "> _Hint:_ You want to filter the results from above. For example to only include urls with the term 'download' in them."
   ]
  },
  {
   "cell_type": "code",
   "execution_count": 65,
   "metadata": {
    "nbgrader": {
     "grade": false,
     "grade_id": "cell-474f6f4274f1f6be",
     "locked": false,
     "schema_version": 3,
     "solution": true,
     "task": false
    }
   },
   "outputs": [],
   "source": [
    "### BEGIN SOLUTION\n",
    "datalinks = set([url for url in rehits if 'download' in url])\n",
    "### END SOLUTION"
   ]
  },
  {
   "cell_type": "markdown",
   "metadata": {},
   "source": [
    "> **Ex. 5.5.4:** *(Bonus)* Using pd.read_excel method, load the datasets into a list. Your resulting variable should hold a list of Pandas dataframes.\n",
    "\n",
    "> _Hint:_ you may want to set the `skiprows` keyword argument. "
   ]
  },
  {
   "cell_type": "code",
   "execution_count": 67,
   "metadata": {
    "nbgrader": {
     "grade": false,
     "grade_id": "cell-da5cce0bcf1ee076",
     "locked": false,
     "schema_version": 3,
     "solution": true,
     "task": false
    }
   },
   "outputs": [],
   "source": [
    "### BEGIN SOLUTION\n",
    "import pandas as pd\n",
    "traffic_raw = [pd.read_excel(url, skiprows = 10) for url in datalinks]\n",
    "### END SOLUTION"
   ]
  },
  {
   "cell_type": "markdown",
   "metadata": {},
   "source": [
    "> **Ex. 5.5.5:** *(Bonus)* Merge the list of dataframes into a single dataframe."
   ]
  },
  {
   "cell_type": "code",
   "execution_count": 68,
   "metadata": {
    "nbgrader": {
     "grade": false,
     "grade_id": "cell-4526c1736e295f0a",
     "locked": false,
     "schema_version": 3,
     "solution": true,
     "task": false
    }
   },
   "outputs": [
    {
     "data": {
      "text/html": [
       "<div>\n",
       "<style scoped>\n",
       "    .dataframe tbody tr th:only-of-type {\n",
       "        vertical-align: middle;\n",
       "    }\n",
       "\n",
       "    .dataframe tbody tr th {\n",
       "        vertical-align: top;\n",
       "    }\n",
       "\n",
       "    .dataframe thead th {\n",
       "        text-align: right;\n",
       "    }\n",
       "</style>\n",
       "<table border=\"1\" class=\"dataframe\">\n",
       "  <thead>\n",
       "    <tr style=\"text-align: right;\">\n",
       "      <th></th>\n",
       "      <th>Vej-Id</th>\n",
       "      <th>Vejnavn</th>\n",
       "      <th>Spor</th>\n",
       "      <th>(UTM32)</th>\n",
       "      <th>(UTM32).1</th>\n",
       "      <th>Dato</th>\n",
       "      <th>kl.00-01</th>\n",
       "      <th>kl.01-02</th>\n",
       "      <th>kl.02-03</th>\n",
       "      <th>kl.03-04</th>\n",
       "      <th>...</th>\n",
       "      <th>kl.14-15</th>\n",
       "      <th>kl.15-16</th>\n",
       "      <th>kl.16-17</th>\n",
       "      <th>kl.17-18</th>\n",
       "      <th>kl.18-19</th>\n",
       "      <th>kl.19-20</th>\n",
       "      <th>kl.20-21</th>\n",
       "      <th>kl.21-22</th>\n",
       "      <th>kl.22-23</th>\n",
       "      <th>kl.23-24</th>\n",
       "    </tr>\n",
       "  </thead>\n",
       "  <tbody>\n",
       "    <tr>\n",
       "      <th>0</th>\n",
       "      <td>101 1011492-0 1/ 124 -</td>\n",
       "      <td>Ellebjergvej</td>\n",
       "      <td>NaN</td>\n",
       "      <td>720881</td>\n",
       "      <td>6172777</td>\n",
       "      <td>01.01.2007</td>\n",
       "      <td>166.0</td>\n",
       "      <td>357.0</td>\n",
       "      <td>337.0</td>\n",
       "      <td>251.0</td>\n",
       "      <td>...</td>\n",
       "      <td>737.0</td>\n",
       "      <td>706.0</td>\n",
       "      <td>670.0</td>\n",
       "      <td>590.0</td>\n",
       "      <td>571.0</td>\n",
       "      <td>435.0</td>\n",
       "      <td>285.0</td>\n",
       "      <td>269.0</td>\n",
       "      <td>243.0</td>\n",
       "      <td>154.0</td>\n",
       "    </tr>\n",
       "    <tr>\n",
       "      <th>1</th>\n",
       "      <td>101 1011492-0 1/ 124 -</td>\n",
       "      <td>Ellebjergvej</td>\n",
       "      <td>NaN</td>\n",
       "      <td>720881</td>\n",
       "      <td>6172777</td>\n",
       "      <td>02.01.2007</td>\n",
       "      <td>69.0</td>\n",
       "      <td>60.0</td>\n",
       "      <td>52.0</td>\n",
       "      <td>50.0</td>\n",
       "      <td>...</td>\n",
       "      <td>996.0</td>\n",
       "      <td>1130.0</td>\n",
       "      <td>1254.0</td>\n",
       "      <td>1009.0</td>\n",
       "      <td>805.0</td>\n",
       "      <td>528.0</td>\n",
       "      <td>359.0</td>\n",
       "      <td>363.0</td>\n",
       "      <td>280.0</td>\n",
       "      <td>183.0</td>\n",
       "    </tr>\n",
       "    <tr>\n",
       "      <th>2</th>\n",
       "      <td>101 1011492-0 1/ 124 -</td>\n",
       "      <td>Ellebjergvej</td>\n",
       "      <td>NaN</td>\n",
       "      <td>720881</td>\n",
       "      <td>6172777</td>\n",
       "      <td>03.01.2007</td>\n",
       "      <td>105.0</td>\n",
       "      <td>68.0</td>\n",
       "      <td>65.0</td>\n",
       "      <td>76.0</td>\n",
       "      <td>...</td>\n",
       "      <td>1043.0</td>\n",
       "      <td>1279.0</td>\n",
       "      <td>1220.0</td>\n",
       "      <td>1039.0</td>\n",
       "      <td>795.0</td>\n",
       "      <td>539.0</td>\n",
       "      <td>392.0</td>\n",
       "      <td>360.0</td>\n",
       "      <td>323.0</td>\n",
       "      <td>196.0</td>\n",
       "    </tr>\n",
       "    <tr>\n",
       "      <th>3</th>\n",
       "      <td>101 1011492-0 1/ 124 -</td>\n",
       "      <td>Ellebjergvej</td>\n",
       "      <td>NaN</td>\n",
       "      <td>720881</td>\n",
       "      <td>6172777</td>\n",
       "      <td>04.01.2007</td>\n",
       "      <td>90.0</td>\n",
       "      <td>58.0</td>\n",
       "      <td>71.0</td>\n",
       "      <td>65.0</td>\n",
       "      <td>...</td>\n",
       "      <td>1095.0</td>\n",
       "      <td>1226.0</td>\n",
       "      <td>1297.0</td>\n",
       "      <td>1056.0</td>\n",
       "      <td>839.0</td>\n",
       "      <td>543.0</td>\n",
       "      <td>427.0</td>\n",
       "      <td>421.0</td>\n",
       "      <td>387.0</td>\n",
       "      <td>237.0</td>\n",
       "    </tr>\n",
       "    <tr>\n",
       "      <th>4</th>\n",
       "      <td>101 1011492-0 1/ 124 -</td>\n",
       "      <td>Ellebjergvej</td>\n",
       "      <td>NaN</td>\n",
       "      <td>720881</td>\n",
       "      <td>6172777</td>\n",
       "      <td>05.01.2007</td>\n",
       "      <td>121.0</td>\n",
       "      <td>50.0</td>\n",
       "      <td>69.0</td>\n",
       "      <td>78.0</td>\n",
       "      <td>...</td>\n",
       "      <td>1292.0</td>\n",
       "      <td>1418.0</td>\n",
       "      <td>1288.0</td>\n",
       "      <td>1110.0</td>\n",
       "      <td>904.0</td>\n",
       "      <td>618.0</td>\n",
       "      <td>471.0</td>\n",
       "      <td>425.0</td>\n",
       "      <td>354.0</td>\n",
       "      <td>285.0</td>\n",
       "    </tr>\n",
       "    <tr>\n",
       "      <th>...</th>\n",
       "      <td>...</td>\n",
       "      <td>...</td>\n",
       "      <td>...</td>\n",
       "      <td>...</td>\n",
       "      <td>...</td>\n",
       "      <td>...</td>\n",
       "      <td>...</td>\n",
       "      <td>...</td>\n",
       "      <td>...</td>\n",
       "      <td>...</td>\n",
       "      <td>...</td>\n",
       "      <td>...</td>\n",
       "      <td>...</td>\n",
       "      <td>...</td>\n",
       "      <td>...</td>\n",
       "      <td>...</td>\n",
       "      <td>...</td>\n",
       "      <td>...</td>\n",
       "      <td>...</td>\n",
       "      <td>...</td>\n",
       "      <td>...</td>\n",
       "    </tr>\n",
       "    <tr>\n",
       "      <th>19008</th>\n",
       "      <td>101 1018636-0 0/ 180 T</td>\n",
       "      <td>Åboulevard</td>\n",
       "      <td>NaN</td>\n",
       "      <td>723530</td>\n",
       "      <td>6176573</td>\n",
       "      <td>24.02.2011</td>\n",
       "      <td>301.0</td>\n",
       "      <td>156.0</td>\n",
       "      <td>88.0</td>\n",
       "      <td>72.0</td>\n",
       "      <td>...</td>\n",
       "      <td>3126.0</td>\n",
       "      <td>3761.0</td>\n",
       "      <td>3688.0</td>\n",
       "      <td>3389.0</td>\n",
       "      <td>2879.0</td>\n",
       "      <td>1966.0</td>\n",
       "      <td>1583.0</td>\n",
       "      <td>1424.0</td>\n",
       "      <td>1368.0</td>\n",
       "      <td>1010.0</td>\n",
       "    </tr>\n",
       "    <tr>\n",
       "      <th>19009</th>\n",
       "      <td>101 1018636-0 0/ 180 T</td>\n",
       "      <td>Åboulevard</td>\n",
       "      <td>NaN</td>\n",
       "      <td>723530</td>\n",
       "      <td>6176573</td>\n",
       "      <td>25.02.2011</td>\n",
       "      <td>435.0</td>\n",
       "      <td>221.0</td>\n",
       "      <td>158.0</td>\n",
       "      <td>140.0</td>\n",
       "      <td>...</td>\n",
       "      <td>3535.0</td>\n",
       "      <td>3617.0</td>\n",
       "      <td>3679.0</td>\n",
       "      <td>3340.0</td>\n",
       "      <td>2673.0</td>\n",
       "      <td>2076.0</td>\n",
       "      <td>1479.0</td>\n",
       "      <td>1272.0</td>\n",
       "      <td>1416.0</td>\n",
       "      <td>1344.0</td>\n",
       "    </tr>\n",
       "    <tr>\n",
       "      <th>19010</th>\n",
       "      <td>101 1018636-0 0/ 180 T</td>\n",
       "      <td>Åboulevard</td>\n",
       "      <td>NaN</td>\n",
       "      <td>723530</td>\n",
       "      <td>6176573</td>\n",
       "      <td>26.02.2011</td>\n",
       "      <td>1127.0</td>\n",
       "      <td>798.0</td>\n",
       "      <td>670.0</td>\n",
       "      <td>666.0</td>\n",
       "      <td>...</td>\n",
       "      <td>2707.0</td>\n",
       "      <td>2501.0</td>\n",
       "      <td>2481.0</td>\n",
       "      <td>2490.0</td>\n",
       "      <td>2317.0</td>\n",
       "      <td>1616.0</td>\n",
       "      <td>1325.0</td>\n",
       "      <td>1210.0</td>\n",
       "      <td>1223.0</td>\n",
       "      <td>1606.0</td>\n",
       "    </tr>\n",
       "    <tr>\n",
       "      <th>19011</th>\n",
       "      <td>101 1018636-0 0/ 180 T</td>\n",
       "      <td>Åboulevard</td>\n",
       "      <td>NaN</td>\n",
       "      <td>723530</td>\n",
       "      <td>6176573</td>\n",
       "      <td>27.02.2011</td>\n",
       "      <td>1216.0</td>\n",
       "      <td>892.0</td>\n",
       "      <td>793.0</td>\n",
       "      <td>705.0</td>\n",
       "      <td>...</td>\n",
       "      <td>2714.0</td>\n",
       "      <td>2443.0</td>\n",
       "      <td>2366.0</td>\n",
       "      <td>2377.0</td>\n",
       "      <td>2035.0</td>\n",
       "      <td>1486.0</td>\n",
       "      <td>1174.0</td>\n",
       "      <td>1069.0</td>\n",
       "      <td>838.0</td>\n",
       "      <td>554.0</td>\n",
       "    </tr>\n",
       "    <tr>\n",
       "      <th>19012</th>\n",
       "      <td>101 1018636-0 0/ 180 T</td>\n",
       "      <td>Åboulevard</td>\n",
       "      <td>NaN</td>\n",
       "      <td>723530</td>\n",
       "      <td>6176573</td>\n",
       "      <td>28.02.2011</td>\n",
       "      <td>269.0</td>\n",
       "      <td>115.0</td>\n",
       "      <td>68.0</td>\n",
       "      <td>66.0</td>\n",
       "      <td>...</td>\n",
       "      <td>3136.0</td>\n",
       "      <td>3731.0</td>\n",
       "      <td>3694.0</td>\n",
       "      <td>3141.0</td>\n",
       "      <td>2485.0</td>\n",
       "      <td>1866.0</td>\n",
       "      <td>1420.0</td>\n",
       "      <td>1320.0</td>\n",
       "      <td>1126.0</td>\n",
       "      <td>658.0</td>\n",
       "    </tr>\n",
       "  </tbody>\n",
       "</table>\n",
       "<p>183397 rows × 30 columns</p>\n",
       "</div>"
      ],
      "text/plain": [
       "                       Vej-Id       Vejnavn  Spor  (UTM32)  (UTM32).1  \\\n",
       "0      101 1011492-0 1/ 124 -  Ellebjergvej   NaN   720881    6172777   \n",
       "1      101 1011492-0 1/ 124 -  Ellebjergvej   NaN   720881    6172777   \n",
       "2      101 1011492-0 1/ 124 -  Ellebjergvej   NaN   720881    6172777   \n",
       "3      101 1011492-0 1/ 124 -  Ellebjergvej   NaN   720881    6172777   \n",
       "4      101 1011492-0 1/ 124 -  Ellebjergvej   NaN   720881    6172777   \n",
       "...                       ...           ...   ...      ...        ...   \n",
       "19008  101 1018636-0 0/ 180 T    Åboulevard   NaN   723530    6176573   \n",
       "19009  101 1018636-0 0/ 180 T    Åboulevard   NaN   723530    6176573   \n",
       "19010  101 1018636-0 0/ 180 T    Åboulevard   NaN   723530    6176573   \n",
       "19011  101 1018636-0 0/ 180 T    Åboulevard   NaN   723530    6176573   \n",
       "19012  101 1018636-0 0/ 180 T    Åboulevard   NaN   723530    6176573   \n",
       "\n",
       "             Dato  kl.00-01  kl.01-02  kl.02-03  kl.03-04  ...  kl.14-15  \\\n",
       "0      01.01.2007     166.0     357.0     337.0     251.0  ...     737.0   \n",
       "1      02.01.2007      69.0      60.0      52.0      50.0  ...     996.0   \n",
       "2      03.01.2007     105.0      68.0      65.0      76.0  ...    1043.0   \n",
       "3      04.01.2007      90.0      58.0      71.0      65.0  ...    1095.0   \n",
       "4      05.01.2007     121.0      50.0      69.0      78.0  ...    1292.0   \n",
       "...           ...       ...       ...       ...       ...  ...       ...   \n",
       "19008  24.02.2011     301.0     156.0      88.0      72.0  ...    3126.0   \n",
       "19009  25.02.2011     435.0     221.0     158.0     140.0  ...    3535.0   \n",
       "19010  26.02.2011    1127.0     798.0     670.0     666.0  ...    2707.0   \n",
       "19011  27.02.2011    1216.0     892.0     793.0     705.0  ...    2714.0   \n",
       "19012  28.02.2011     269.0     115.0      68.0      66.0  ...    3136.0   \n",
       "\n",
       "       kl.15-16  kl.16-17  kl.17-18  kl.18-19  kl.19-20  kl.20-21  kl.21-22  \\\n",
       "0         706.0     670.0     590.0     571.0     435.0     285.0     269.0   \n",
       "1        1130.0    1254.0    1009.0     805.0     528.0     359.0     363.0   \n",
       "2        1279.0    1220.0    1039.0     795.0     539.0     392.0     360.0   \n",
       "3        1226.0    1297.0    1056.0     839.0     543.0     427.0     421.0   \n",
       "4        1418.0    1288.0    1110.0     904.0     618.0     471.0     425.0   \n",
       "...         ...       ...       ...       ...       ...       ...       ...   \n",
       "19008    3761.0    3688.0    3389.0    2879.0    1966.0    1583.0    1424.0   \n",
       "19009    3617.0    3679.0    3340.0    2673.0    2076.0    1479.0    1272.0   \n",
       "19010    2501.0    2481.0    2490.0    2317.0    1616.0    1325.0    1210.0   \n",
       "19011    2443.0    2366.0    2377.0    2035.0    1486.0    1174.0    1069.0   \n",
       "19012    3731.0    3694.0    3141.0    2485.0    1866.0    1420.0    1320.0   \n",
       "\n",
       "       kl.22-23  kl.23-24  \n",
       "0         243.0     154.0  \n",
       "1         280.0     183.0  \n",
       "2         323.0     196.0  \n",
       "3         387.0     237.0  \n",
       "4         354.0     285.0  \n",
       "...         ...       ...  \n",
       "19008    1368.0    1010.0  \n",
       "19009    1416.0    1344.0  \n",
       "19010    1223.0    1606.0  \n",
       "19011     838.0     554.0  \n",
       "19012    1126.0     658.0  \n",
       "\n",
       "[183397 rows x 30 columns]"
      ]
     },
     "execution_count": 68,
     "metadata": {},
     "output_type": "execute_result"
    }
   ],
   "source": [
    "### BEGIN SOLUTION\n",
    "final_data = pd.concat(traffic_raw)\n",
    "final_data\n",
    "### END SOLUTION"
   ]
  },
  {
   "cell_type": "markdown",
   "metadata": {},
   "source": [
    "## Part 5.5.B Structuring your data\n",
    "\n",
    "If you successfully completed the previous part, you should now have a dataframe with about 183.397 rows (if your number of rows is close but not the same, worry not—it matters little in the following). Well done! But the data is still in no shape for analysis, so we must clean it up a little.\n",
    "\n",
    "161.236 rows (and 30 columns) is a lot of data. ~3.3 MB by my back-of-the-envelope calculations, so not \"Big Data\", but still enough to make your CPU heat up if you don't use it carefully. Pandas is built to handle fairly large dataframes and has advanced functionality to perform very fast operations even when the size of your data grows huge. So instead of working with basic Python we recommend working pandas built-in procedures as they are constructed to be fast on dataframes.\n",
    "\n",
    "Nerd fact: the reason pandas is much faster than pure Python is that dataframes access a lower level programming languages (namely C, C++) which are multiple times faster than Python. The reason it is faster is that it has a higher level of explicitness and thus is more difficult to learn and navigate.\n",
    "\n",
    "> **Ex. 5.5.6:** *(Bonus)* Reset the row indices of your dataframe so the first index is 0 and the last is whatever the number of rows your dataframe has. Also drop the column named 'index' and the one named `Spor`."
   ]
  },
  {
   "cell_type": "code",
   "execution_count": 69,
   "metadata": {
    "nbgrader": {
     "grade": false,
     "grade_id": "cell-bba8d42c26534466",
     "locked": false,
     "schema_version": 3,
     "solution": true,
     "task": false
    }
   },
   "outputs": [],
   "source": [
    "### BEGIN SOLUTION\n",
    "final_data = final_data\\\n",
    "        .reset_index()\\\n",
    "        .drop(['index', 'Spor'], axis = 1)\n",
    "### END SOLUTION"
   ]
  },
  {
   "cell_type": "markdown",
   "metadata": {},
   "source": [
    "> **Ex. 5.5.7:** *(Bonus)* Rename variables from Danish to English using the dictionary below.\n",
    "\n",
    "```python \n",
    "dk_to_uk = {\n",
    "    'Vejnavn':'road_name',\n",
    "    '(UTM32)':'UTM32_north',\n",
    "    '(UTM32).1':'UTM32_east',\n",
    "    'Dato':'date',\n",
    "    'Vej-Id':'road_id'\n",
    "}\n",
    "```"
   ]
  },
  {
   "cell_type": "code",
   "execution_count": 70,
   "metadata": {
    "nbgrader": {
     "grade": false,
     "grade_id": "cell-70b2cbb8cf1b167a",
     "locked": false,
     "schema_version": 3,
     "solution": true,
     "task": false
    }
   },
   "outputs": [],
   "source": [
    "### BEGIN SOLUTION\n",
    "dk_to_uk = {\n",
    "    'Vejnavn':'road_name',\n",
    "    '(UTM32)':'UTM32_north',\n",
    "    '(UTM32).1':'UTM32_east',\n",
    "    'Dato':'date',\n",
    "    'Vej-Id':'road_id'\n",
    "}\n",
    "\n",
    "\n",
    "final_data = final_data.rename(columns = dk_to_uk)\n",
    "### END SOLUTION"
   ]
  },
  {
   "cell_type": "markdown",
   "metadata": {},
   "source": [
    "Python is quite efficient. For example, when you create a new dataframe by manipulating an old one, Python notices that—apart from some minor changes—these two objects are almost the same. Since memory is a precious resource, Python will represent the values in the new dataframe as references to the variables in the old dataset. This is great for performance, but if you for whatever reason change some of the values in your old dataframe, values in the new one will also change—and we don't want that! Luckily, we can break this dependency.\n",
    "\n",
    "> **Ex. 5.5.8:** *(Bonus)* Break the dependencies of the dataframe that resulted from Ex. 5.2.7 using the `.copy` method. Delete all other dataframes."
   ]
  },
  {
   "cell_type": "code",
   "execution_count": 71,
   "metadata": {
    "nbgrader": {
     "grade": false,
     "grade_id": "cell-3bc14837561aaf91",
     "locked": false,
     "schema_version": 3,
     "solution": true,
     "task": false
    }
   },
   "outputs": [],
   "source": [
    "### BEGIN SOLUTION\n",
    "new_data = final_data.copy()\n",
    "\n",
    "del final_data\n",
    "### END SOLUTION"
   ]
  },
  {
   "cell_type": "markdown",
   "metadata": {},
   "source": [
    "Once you have structured appropriately, something that you will want to do again and again is selecting subsets of the data. Specifically, it means that you select specific rows in the dataset based on some column values.\n",
    "\n",
    ">**Ex. 5.5.9:** *(Bonus)* Create a new column in the dataframe called total that is True when the last letter of road_id is T and otherwise False.\n",
    "\n",
    "> _Hint:_ you will need the `pd.Series.str` attribute for this."
   ]
  },
  {
   "cell_type": "code",
   "execution_count": 72,
   "metadata": {
    "nbgrader": {
     "grade": false,
     "grade_id": "cell-d71c49b56465c6de",
     "locked": false,
     "schema_version": 3,
     "solution": true,
     "task": false
    }
   },
   "outputs": [],
   "source": [
    "### BEGIN SOLUTION\n",
    "new_data['total'] = (new_data.road_id.str[-1] == 'T')\n",
    "### END SOLUTION"
   ]
  },
  {
   "cell_type": "markdown",
   "metadata": {},
   "source": [
    "> **Ex. 5.5.10:** *(Bonus)* Select rows where total is True. Delete all the remaining observations."
   ]
  },
  {
   "cell_type": "code",
   "execution_count": 73,
   "metadata": {
    "nbgrader": {
     "grade": false,
     "grade_id": "cell-be16ff389b3ac550",
     "locked": false,
     "schema_version": 3,
     "solution": true,
     "task": false
    }
   },
   "outputs": [],
   "source": [
    "### BEGIN SOLUTION\n",
    "total_data = new_data[new_data.total == True]\n",
    "\n",
    "del new_data\n",
    "### END SOLUTION"
   ]
  },
  {
   "cell_type": "markdown",
   "metadata": {},
   "source": [
    "> **Ex. 5.5.11:** *(Bonus)* Make two datasets based on the lists of columns below. Call the dataset with spatial columns data_geo and the other data.\n",
    "\n",
    "```python\n",
    "# Columns for `geo_data`, stored in `geo_columns`\n",
    "spatial_columns = ['road_name', 'UTM32_north', 'UTM32_east']\n",
    "\n",
    "# Columns for `data`, stored in `select_columns`\n",
    "hours = ['kl.{}-{}'.format(str(h).zfill(2), str(h+1).zfill(2)) for h in range(24)]\n",
    "select_columns = ['road_name', 'date'] + hours\n",
    "```"
   ]
  },
  {
   "cell_type": "code",
   "execution_count": 74,
   "metadata": {
    "nbgrader": {
     "grade": false,
     "grade_id": "cell-044260f4552d575c",
     "locked": false,
     "schema_version": 3,
     "solution": true,
     "task": false
    }
   },
   "outputs": [],
   "source": [
    "### BEGIN SOLUTION\n",
    "# Columns for `geo_data`, stored in `geo_columns`\n",
    "spatial_columns = ['road_name', 'UTM32_north', 'UTM32_east']\n",
    "\n",
    "# Columns for `data`, stored in `select_columns`\n",
    "hours = [f'kl.{str(h).zfill(2)}-{str(h+1).zfill(2)}' for h in range(24)]\n",
    "select_columns = ['road_name', 'date'] + hours\n",
    "\n",
    "# selections\n",
    "data_geo = total_data[spatial_columns]\n",
    "data  = total_data[select_columns]\n",
    "\n",
    "del total_data\n",
    "### END SOLUTION"
   ]
  },
  {
   "cell_type": "markdown",
   "metadata": {},
   "source": [
    "> **Ex. 5.5.12:** *(Bonus)* Drop the duplicate rows in data_geo."
   ]
  },
  {
   "cell_type": "code",
   "execution_count": 75,
   "metadata": {
    "nbgrader": {
     "grade": false,
     "grade_id": "cell-34fc8fa941234a18",
     "locked": false,
     "schema_version": 3,
     "solution": true,
     "task": false
    }
   },
   "outputs": [],
   "source": [
    "### BEGIN SOLUTION\n",
    "data_geo.drop_duplicates(inplace = True)\n",
    "### END SOLUTION"
   ]
  },
  {
   "cell_type": "markdown",
   "metadata": {},
   "source": [
    "**Formatting: wide and narrow format**\n",
    "\n",
    "When talking about two-dimensional data (matrices, tables or dataframes, we can call it many things), we can either say that it is in wide or long format (see explanation here, \"wide\" and \"long\" are used interchangably). In Pandas we can use the commands stack and unstack to move between these formats.\n",
    "\n",
    "The wide format has the advantage that it often requires less storage and is easier to read when printed. On the other hand the long format can be easier for modelling, because each observation has its own row. Turns out that the latter is what we most often need.\n",
    "\n",
    "> **Ex. 5.5.13:** *(Bonus)* Turn the dataset from wide to long so hourly data is now vertically stacked. Store this dataset in a dataframe called data. Name the column with hourly information hour_period. Your resulting dataframe should look something like this.\n",
    "\n",
    "> _Hint:_ pandas' melt function may be of use."
   ]
  },
  {
   "cell_type": "code",
   "execution_count": 76,
   "metadata": {
    "nbgrader": {
     "grade": false,
     "grade_id": "cell-8814dd6f2c675c9e",
     "locked": false,
     "schema_version": 3,
     "solution": true,
     "task": false
    }
   },
   "outputs": [],
   "source": [
    "### BEGIN SOLUTION\n",
    "\n",
    "# A bonus info: This function is written using optional type declaration. This\n",
    "# is used to communicate what type the inputs should be. It doesn't affect the \n",
    "# functionality in any way, but it can sometimes increase readability. \n",
    "\n",
    "def gather(df: pd.DataFrame, key: str, value: str, cols: list) -> pd.DataFrame:\n",
    "    \"\"\" This helper makes pythons melt() behave like R's gather()\n",
    "    \"\"\"\n",
    "    id_vars = [ col for col in df.columns if col not in cols ]\n",
    "    id_values = cols\n",
    "    var_name = key\n",
    "    value_name = value\n",
    "    return pd.melt( df, id_vars, id_values, var_name, value_name )\n",
    "\n",
    "data_long = gather(data, 'hour_period', 'value', hours)\n",
    "\n",
    "# # using .stack() \n",
    "# # dropna = False in stack() is necessary for the dataframe to be exactly equal to the one above\n",
    "# data_long = data.set_index([\"road_name\", \"date\"])\\\n",
    "#                 .stack(dropna=False)\\\n",
    "#                 .reset_index()\\\n",
    "#                 .rename(columns = {\"level_2\": \"hour_period\", 0: \"value\"})\n",
    "\n",
    "### END SOLUTION"
   ]
  },
  {
   "cell_type": "markdown",
   "metadata": {},
   "source": [
    "**Categorical data**\n",
    "\n",
    "Categorical data can contain Python objects, usually strings. These are smart if you have variables with string observations that are long and often repeated, e.g. with road names.\n",
    "\n",
    "> **Ex. 5.5.14:** *(Bonus)* Use the `.astype` method to convert the type of the road_name column to categorical."
   ]
  },
  {
   "cell_type": "code",
   "execution_count": 77,
   "metadata": {
    "nbgrader": {
     "grade": false,
     "grade_id": "cell-d94e7ec1af8fce59",
     "locked": false,
     "schema_version": 3,
     "solution": true,
     "task": false
    }
   },
   "outputs": [],
   "source": [
    "### BEGIN SOLUTION\n",
    "data_long.road_name = data_long.road_name.astype('category')\n",
    "### END SOLUTION"
   ]
  },
  {
   "cell_type": "markdown",
   "metadata": {},
   "source": [
    "## Part 5.5.C:  Structure temporal data\n",
    "\n",
    "Pandas has native support for working with temporal data. This is handy as much 'big data' often has time stamps which we can make Pandas aware of. Once we have encoded temporal data it can be used to extract information such as the hour, second etc.\n",
    "\n",
    "> **Ex. 5.5.15:** *(Bonus)* Create a new column called hour which contains the hour-of-day for each row. "
   ]
  },
  {
   "cell_type": "code",
   "execution_count": 78,
   "metadata": {
    "nbgrader": {
     "grade": false,
     "grade_id": "cell-54d6bbbab97b9bae",
     "locked": false,
     "schema_version": 3,
     "solution": true,
     "task": false
    }
   },
   "outputs": [],
   "source": [
    "### BEGIN SOLUTION\n",
    "data_long['hour'] = pd.to_datetime(data_long['hour_period'].str[3:5], format = '%H')\n",
    "### END SOLUTION"
   ]
  },
  {
   "cell_type": "markdown",
   "metadata": {},
   "source": [
    ">**Ex. 5.5.16:** *(Bonus)* Create a new column called time, that contains the time of the row in datetime format. Delete the old temporal columns (hour, hour_period, date) to save memory.\n",
    "\n",
    "> _Hint:_ try making an intermediary series of strings that has all temporal information for the row; then use pandas to_datetime function where you can specify the format of the date string."
   ]
  },
  {
   "cell_type": "code",
   "execution_count": 79,
   "metadata": {
    "nbgrader": {
     "grade": false,
     "grade_id": "cell-e8d6d81a5e31cd12",
     "locked": false,
     "schema_version": 3,
     "solution": true,
     "task": false
    }
   },
   "outputs": [],
   "source": [
    "### BEGIN SOLUTION\n",
    "data_long['timestamp'] = pd.to_datetime(data_long.date + ' ' + data_long.hour\\\n",
    "                                                                        .dt\\\n",
    "                                                                        .hour\\\n",
    "                                                                        .astype(str)\\\n",
    "                                                                        .apply(lambda x: x.zfill(2)),\n",
    "                                        format = '%d.%m.%Y %H')\n",
    "\n",
    "data_long = data_long.drop(['hour', 'hour_period', 'date'], axis = 1)\n",
    "### END SOLUTION"
   ]
  },
  {
   "cell_type": "markdown",
   "metadata": {},
   "source": [
    "> **Ex. 5.5.17:** *(Bonus)* Using your time column make a new column called weekday which stores the weekday (in values between 0 and 6) of the corresponding datetime.\n",
    "\n",
    "> _Hint:_ try using the dt method for the series called time; dt has some relevant methods itself."
   ]
  },
  {
   "cell_type": "code",
   "execution_count": 80,
   "metadata": {
    "nbgrader": {
     "grade": false,
     "grade_id": "cell-eeabee7e17bbc24a",
     "locked": false,
     "schema_version": 3,
     "solution": true,
     "task": false
    }
   },
   "outputs": [],
   "source": [
    "### BEGIN SOLUTION\n",
    "data_long['weekday'] = data_long.timestamp.dt.weekday\n",
    "### END SOLUTION"
   ]
  },
  {
   "cell_type": "markdown",
   "metadata": {},
   "source": [
    "## Part 5.5.D: Statistical descriptions of traffic data\n",
    "\n",
    "> **Ex. 5.5.18:** *(Bonus)* Print the \"descriptive statistics\" of the traffic column. Also show a kernel density estimate of the values.\n",
    "\n",
    "> _Hint:_ Use the describe method of pandas dataframes for the first task. Use seaborn for the second. "
   ]
  },
  {
   "cell_type": "code",
   "execution_count": 81,
   "metadata": {
    "nbgrader": {
     "grade": false,
     "grade_id": "cell-5543e5d8d126bc40",
     "locked": false,
     "schema_version": 3,
     "solution": true,
     "task": false
    }
   },
   "outputs": [
    {
     "name": "stdout",
     "output_type": "stream",
     "text": [
      "count    1.433632e+06\n",
      "mean     7.527278e+02\n",
      "std      8.231834e+02\n",
      "min      0.000000e+00\n",
      "25%      1.310000e+02\n",
      "50%      4.120000e+02\n",
      "75%      1.154000e+03\n",
      "max      1.065800e+04\n",
      "Name: value, dtype: float64\n"
     ]
    },
    {
     "data": {
      "image/png": "[encoded data removed]",
      "text/plain": [
       "<Figure size 640x480 with 1 Axes>"
      ]
     },
     "metadata": {},
     "output_type": "display_data"
    }
   ],
   "source": [
    "import seaborn as sb\n",
    "\n",
    "### BEGIN SOLUTION\n",
    "print(data_long.value.describe())\n",
    "\n",
    "sb.kdeplot(data_long.value.dropna())\n",
    "plt.show()\n",
    "### END SOLUTION"
   ]
  },
  {
   "cell_type": "markdown",
   "metadata": {},
   "source": [
    "> **Ex. 5.5.19:** *(Bonus)* Which road has the most average traffic?"
   ]
  },
  {
   "cell_type": "code",
   "execution_count": 82,
   "metadata": {
    "nbgrader": {
     "grade": false,
     "grade_id": "cell-ed14c5a9519b1a33",
     "locked": false,
     "schema_version": 3,
     "solution": true,
     "task": false
    }
   },
   "outputs": [
    {
     "data": {
      "text/html": [
       "<div>\n",
       "<style scoped>\n",
       "    .dataframe tbody tr th:only-of-type {\n",
       "        vertical-align: middle;\n",
       "    }\n",
       "\n",
       "    .dataframe tbody tr th {\n",
       "        vertical-align: top;\n",
       "    }\n",
       "\n",
       "    .dataframe thead th {\n",
       "        text-align: right;\n",
       "    }\n",
       "</style>\n",
       "<table border=\"1\" class=\"dataframe\">\n",
       "  <thead>\n",
       "    <tr style=\"text-align: right;\">\n",
       "      <th></th>\n",
       "      <th>road_name</th>\n",
       "      <th>value</th>\n",
       "    </tr>\n",
       "  </thead>\n",
       "  <tbody>\n",
       "    <tr>\n",
       "      <th>20</th>\n",
       "      <td>Åboulevard</td>\n",
       "      <td>1832.535007</td>\n",
       "    </tr>\n",
       "    <tr>\n",
       "      <th>5</th>\n",
       "      <td>Hareskovvej</td>\n",
       "      <td>1781.348144</td>\n",
       "    </tr>\n",
       "    <tr>\n",
       "      <th>2</th>\n",
       "      <td>Fredensbro</td>\n",
       "      <td>1615.688439</td>\n",
       "    </tr>\n",
       "    <tr>\n",
       "      <th>12</th>\n",
       "      <td>Roskildevej</td>\n",
       "      <td>1547.680620</td>\n",
       "    </tr>\n",
       "    <tr>\n",
       "      <th>9</th>\n",
       "      <td>Kalvebod Brygge</td>\n",
       "      <td>1459.062771</td>\n",
       "    </tr>\n",
       "    <tr>\n",
       "      <th>0</th>\n",
       "      <td>Ellebjergvej</td>\n",
       "      <td>1423.814049</td>\n",
       "    </tr>\n",
       "    <tr>\n",
       "      <th>15</th>\n",
       "      <td>Torvegade</td>\n",
       "      <td>1174.389343</td>\n",
       "    </tr>\n",
       "    <tr>\n",
       "      <th>16</th>\n",
       "      <td>Tuborgvej</td>\n",
       "      <td>1155.902472</td>\n",
       "    </tr>\n",
       "    <tr>\n",
       "      <th>18</th>\n",
       "      <td>Vigerslev Allé</td>\n",
       "      <td>876.440934</td>\n",
       "    </tr>\n",
       "    <tr>\n",
       "      <th>7</th>\n",
       "      <td>Jagtvej</td>\n",
       "      <td>832.859514</td>\n",
       "    </tr>\n",
       "  </tbody>\n",
       "</table>\n",
       "</div>"
      ],
      "text/plain": [
       "          road_name        value\n",
       "20       Åboulevard  1832.535007\n",
       "5       Hareskovvej  1781.348144\n",
       "2        Fredensbro  1615.688439\n",
       "12      Roskildevej  1547.680620\n",
       "9   Kalvebod Brygge  1459.062771\n",
       "0      Ellebjergvej  1423.814049\n",
       "15        Torvegade  1174.389343\n",
       "16        Tuborgvej  1155.902472\n",
       "18   Vigerslev Allé   876.440934\n",
       "7           Jagtvej   832.859514"
      ]
     },
     "execution_count": 82,
     "metadata": {},
     "output_type": "execute_result"
    }
   ],
   "source": [
    "### BEGIN SOLUTION\n",
    "data_long.groupby('road_name')\\\n",
    "         .value.agg('mean')\\\n",
    "         .reset_index()\\\n",
    "         .sort_values('value', ascending = False)\\\n",
    "         .head(10)\n",
    "### END SOLUTION"
   ]
  },
  {
   "cell_type": "markdown",
   "metadata": {},
   "source": [
    "> **Ex. 5.5.20:** *(Bonus)* Compute annual, average road traffic during day hours (9-17). Which station had the least traffic in 2013? Which station has seen highest growth in traffic from 2013 to 2014?"
   ]
  },
  {
   "cell_type": "code",
   "execution_count": 83,
   "metadata": {
    "nbgrader": {
     "grade": false,
     "grade_id": "cell-279831757079d3e0",
     "locked": false,
     "schema_version": 3,
     "solution": true,
     "task": false
    },
    "tags": []
   },
   "outputs": [
    {
     "name": "stderr",
     "output_type": "stream",
     "text": [
      "/var/folders/w3/tt0c5cjn0wnbdymcdk5mr_xw0000gn/T/ipykernel_57250/3853208423.py:24: FutureWarning: In a future version of pandas all arguments of DataFrame.pivot will be keyword-only.\n",
      "  data_delta = data_delta[['road_name', 'value', 'year']].groupby(['road_name', 'year'])\\\n"
     ]
    },
    {
     "data": {
      "text/html": [
       "<div>\n",
       "<style scoped>\n",
       "    .dataframe tbody tr th:only-of-type {\n",
       "        vertical-align: middle;\n",
       "    }\n",
       "\n",
       "    .dataframe tbody tr th {\n",
       "        vertical-align: top;\n",
       "    }\n",
       "\n",
       "    .dataframe thead th {\n",
       "        text-align: right;\n",
       "    }\n",
       "</style>\n",
       "<table border=\"1\" class=\"dataframe\">\n",
       "  <thead>\n",
       "    <tr style=\"text-align: right;\">\n",
       "      <th></th>\n",
       "      <th>road_name</th>\n",
       "      <th>2013</th>\n",
       "      <th>2014</th>\n",
       "      <th>growth</th>\n",
       "    </tr>\n",
       "  </thead>\n",
       "  <tbody>\n",
       "    <tr>\n",
       "      <th>13</th>\n",
       "      <td>Skt. Kjelds Gade</td>\n",
       "      <td>68.003108</td>\n",
       "      <td>82.314091</td>\n",
       "      <td>21.044600</td>\n",
       "    </tr>\n",
       "    <tr>\n",
       "      <th>21</th>\n",
       "      <td>Ørestads Boulevard</td>\n",
       "      <td>601.945343</td>\n",
       "      <td>636.221393</td>\n",
       "      <td>5.694213</td>\n",
       "    </tr>\n",
       "    <tr>\n",
       "      <th>9</th>\n",
       "      <td>Kalvebod Brygge</td>\n",
       "      <td>2232.019689</td>\n",
       "      <td>2313.241537</td>\n",
       "      <td>3.638940</td>\n",
       "    </tr>\n",
       "    <tr>\n",
       "      <th>4</th>\n",
       "      <td>Gadelandet</td>\n",
       "      <td>396.650838</td>\n",
       "      <td>409.561142</td>\n",
       "      <td>3.254828</td>\n",
       "    </tr>\n",
       "    <tr>\n",
       "      <th>10</th>\n",
       "      <td>Molbechsvej</td>\n",
       "      <td>226.865948</td>\n",
       "      <td>231.282298</td>\n",
       "      <td>1.946678</td>\n",
       "    </tr>\n",
       "    <tr>\n",
       "      <th>3</th>\n",
       "      <td>Frederikssundsvej</td>\n",
       "      <td>961.251268</td>\n",
       "      <td>960.353306</td>\n",
       "      <td>-0.093416</td>\n",
       "    </tr>\n",
       "    <tr>\n",
       "      <th>15</th>\n",
       "      <td>Torvegade</td>\n",
       "      <td>1682.839230</td>\n",
       "      <td>1673.113354</td>\n",
       "      <td>-0.577944</td>\n",
       "    </tr>\n",
       "    <tr>\n",
       "      <th>11</th>\n",
       "      <td>Mozartsvej</td>\n",
       "      <td>227.591177</td>\n",
       "      <td>225.696151</td>\n",
       "      <td>-0.832645</td>\n",
       "    </tr>\n",
       "    <tr>\n",
       "      <th>0</th>\n",
       "      <td>Ellebjergvej</td>\n",
       "      <td>2281.391896</td>\n",
       "      <td>2257.458937</td>\n",
       "      <td>-1.049051</td>\n",
       "    </tr>\n",
       "    <tr>\n",
       "      <th>18</th>\n",
       "      <td>Vigerslev Allé</td>\n",
       "      <td>1299.996276</td>\n",
       "      <td>1285.405649</td>\n",
       "      <td>-1.122359</td>\n",
       "    </tr>\n",
       "    <tr>\n",
       "      <th>6</th>\n",
       "      <td>Islands Brygge</td>\n",
       "      <td>260.790192</td>\n",
       "      <td>256.680944</td>\n",
       "      <td>-1.575692</td>\n",
       "    </tr>\n",
       "    <tr>\n",
       "      <th>12</th>\n",
       "      <td>Roskildevej</td>\n",
       "      <td>2453.885070</td>\n",
       "      <td>2406.611111</td>\n",
       "      <td>-1.926494</td>\n",
       "    </tr>\n",
       "    <tr>\n",
       "      <th>2</th>\n",
       "      <td>Fredensbro</td>\n",
       "      <td>2344.132568</td>\n",
       "      <td>2162.802235</td>\n",
       "      <td>-7.735498</td>\n",
       "    </tr>\n",
       "    <tr>\n",
       "      <th>17</th>\n",
       "      <td>Vejlands Alle´</td>\n",
       "      <td>1413.934704</td>\n",
       "      <td>1263.462607</td>\n",
       "      <td>-10.642082</td>\n",
       "    </tr>\n",
       "    <tr>\n",
       "      <th>19</th>\n",
       "      <td>Wittenberggade</td>\n",
       "      <td>354.247983</td>\n",
       "      <td>297.950995</td>\n",
       "      <td>-15.891971</td>\n",
       "    </tr>\n",
       "    <tr>\n",
       "      <th>1</th>\n",
       "      <td>Englandsvej</td>\n",
       "      <td>913.265947</td>\n",
       "      <td>NaN</td>\n",
       "      <td>NaN</td>\n",
       "    </tr>\n",
       "    <tr>\n",
       "      <th>5</th>\n",
       "      <td>Hareskovvej</td>\n",
       "      <td>NaN</td>\n",
       "      <td>NaN</td>\n",
       "      <td>NaN</td>\n",
       "    </tr>\n",
       "    <tr>\n",
       "      <th>7</th>\n",
       "      <td>Jagtvej</td>\n",
       "      <td>2326.817337</td>\n",
       "      <td>NaN</td>\n",
       "      <td>NaN</td>\n",
       "    </tr>\n",
       "    <tr>\n",
       "      <th>8</th>\n",
       "      <td>Kalkbrænderihavnsgade</td>\n",
       "      <td>NaN</td>\n",
       "      <td>NaN</td>\n",
       "      <td>NaN</td>\n",
       "    </tr>\n",
       "    <tr>\n",
       "      <th>14</th>\n",
       "      <td>Sølvgade</td>\n",
       "      <td>862.681017</td>\n",
       "      <td>NaN</td>\n",
       "      <td>NaN</td>\n",
       "    </tr>\n",
       "    <tr>\n",
       "      <th>16</th>\n",
       "      <td>Tuborgvej</td>\n",
       "      <td>1750.783103</td>\n",
       "      <td>NaN</td>\n",
       "      <td>NaN</td>\n",
       "    </tr>\n",
       "    <tr>\n",
       "      <th>20</th>\n",
       "      <td>Åboulevard</td>\n",
       "      <td>NaN</td>\n",
       "      <td>NaN</td>\n",
       "      <td>NaN</td>\n",
       "    </tr>\n",
       "  </tbody>\n",
       "</table>\n",
       "</div>"
      ],
      "text/plain": [
       "                road_name         2013         2014     growth\n",
       "13       Skt. Kjelds Gade    68.003108    82.314091  21.044600\n",
       "21     Ørestads Boulevard   601.945343   636.221393   5.694213\n",
       "9         Kalvebod Brygge  2232.019689  2313.241537   3.638940\n",
       "4              Gadelandet   396.650838   409.561142   3.254828\n",
       "10            Molbechsvej   226.865948   231.282298   1.946678\n",
       "3       Frederikssundsvej   961.251268   960.353306  -0.093416\n",
       "15              Torvegade  1682.839230  1673.113354  -0.577944\n",
       "11             Mozartsvej   227.591177   225.696151  -0.832645\n",
       "0            Ellebjergvej  2281.391896  2257.458937  -1.049051\n",
       "18         Vigerslev Allé  1299.996276  1285.405649  -1.122359\n",
       "6          Islands Brygge   260.790192   256.680944  -1.575692\n",
       "12            Roskildevej  2453.885070  2406.611111  -1.926494\n",
       "2              Fredensbro  2344.132568  2162.802235  -7.735498\n",
       "17         Vejlands Alle´  1413.934704  1263.462607 -10.642082\n",
       "19         Wittenberggade   354.247983   297.950995 -15.891971\n",
       "1             Englandsvej   913.265947          NaN        NaN\n",
       "5             Hareskovvej          NaN          NaN        NaN\n",
       "7                 Jagtvej  2326.817337          NaN        NaN\n",
       "8   Kalkbrænderihavnsgade          NaN          NaN        NaN\n",
       "14               Sølvgade   862.681017          NaN        NaN\n",
       "16              Tuborgvej  1750.783103          NaN        NaN\n",
       "20             Åboulevard          NaN          NaN        NaN"
      ]
     },
     "execution_count": 83,
     "metadata": {},
     "output_type": "execute_result"
    }
   ],
   "source": [
    "### BEGIN SOLUTION\n",
    "# create year variable\n",
    "data_long['year'] = data_long.timestamp.dt.year\n",
    "data_long['hour'] = data_long.timestamp.dt.hour\n",
    "\n",
    "# subset relevant years and times \n",
    "data_delta = data_long.query(\"year == 2013 | year == 2014\")\\\n",
    "                      .query(\"hour >= 9 & hour <= 17\")\n",
    "\n",
    "# convert to wide format\n",
    "data_delta = data_delta[['road_name', 'value', 'year']].groupby(['road_name', 'year'])\\\n",
    "                                                       .agg('mean')\\\n",
    "                                                       .reset_index()\\\n",
    "\n",
    "# create year variable\n",
    "data_long['year'] = data_long.timestamp.dt.year\n",
    "data_long['hour'] = data_long.timestamp.dt.hour\n",
    "\n",
    "# subset relevant years and times \n",
    "data_delta = data_long.query(\"year == 2013 | year == 2014\")\\\n",
    "                      .query(\"hour >= 9 & hour <= 17\")\n",
    "\n",
    "# convert to wide format\n",
    "data_delta = data_delta[['road_name', 'value', 'year']].groupby(['road_name', 'year'])\\\n",
    "                                                       .agg('mean')\\\n",
    "                                                       .reset_index()\\\n",
    "                                                       .pivot('road_name', 'year', 'value')\\\n",
    "                                                       .reset_index()\n",
    "# remove redundant column name after pivoting \n",
    "data_delta.columns.name = None\n",
    "\n",
    "# calculate relative size\n",
    "data_delta['growth'] = (data_delta[2014]/data_delta[2013] - 1)*100\n",
    "\n",
    "# show\n",
    "data_delta.sort_values('growth', ascending = False)\n",
    "### END SOLUTION"
   ]
  }
 ],
 "metadata": {
  "celltoolbar": "Create Assignment",
  "kernelspec": {
   "display_name": "Python 3 (ipykernel)",
   "language": "python",
   "name": "python3"
  },
  "language_info": {
   "codemirror_mode": {
    "name": "ipython",
    "version": 3
   },
   "file_extension": ".py",
   "mimetype": "text/x-python",
   "name": "python",
   "nbconvert_exporter": "python",
   "pygments_lexer": "ipython3",
   "version": "3.9.16"
  },
  "varInspector": {
   "cols": {
    "lenName": 16,
    "lenType": 16,
    "lenVar": 40
   },
   "kernels_config": {
    "python": {
     "delete_cmd_postfix": "",
     "delete_cmd_prefix": "del ",
     "library": "var_list.py",
     "varRefreshCmd": "print(var_dic_list())"
    },
    "r": {
     "delete_cmd_postfix": ") ",
     "delete_cmd_prefix": "rm(",
     "library": "var_list.r",
     "varRefreshCmd": "cat(var_dic_list()) "
    }
   },
   "types_to_exclude": [
    "module",
    "function",
    "builtin_function_or_method",
    "instance",
    "_Feature"
   ],
   "window_display": false
  }
 },
 "nbformat": 4,
 "nbformat_minor": 4
}
